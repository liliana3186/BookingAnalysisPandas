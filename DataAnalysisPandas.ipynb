{
 "cells": [
  {
   "cell_type": "markdown",
   "metadata": {},
   "source": [
    "# Data Analysis with Pandas\n",
    "\n",
    "By Liliana Torres\n",
    "&nbsp; \n"
   ]
  },
  {
   "cell_type": "markdown",
   "metadata": {},
   "source": [
    "## What is Pandas and what do we use it for? "
   ]
  },
  {
   "cell_type": "markdown",
   "metadata": {},
   "source": [
    "![](images/QuotePandas.jpg)"
   ]
  },
  {
   "cell_type": "markdown",
   "metadata": {},
   "source": [
    "### Exploring the Data \n",
    "We will be working with a business that offer pet services. We have certain questions from busines that we would like to answer..\n",
    "\n",
    " * people_person : this file has details of each user on the site. it might contain pet owners, pet sitters or people that has not done any transactions on the site\n",
    " * pets_pet : this file contains each pet that a user has added to their profile. One owner might have more than one pet, but not viceversa.\n",
    " * services_service: on the site users might offer pet care services. This file has stored each record of that service that is offered. Each user can have more than one service but not one of each type.\n",
    " * conversations_conversation : An owner can book a service provider by starting a conversation with them. This will store each conversation started on the platform.\n",
    " * conversations_conversation_pets : Since a booking my involve many pets and many pets might had many bookings, it is neccesary to store this many to many relationship.\n",
    " * conversations_message : Each conversation consists of a series of messages. A conversation may contain many messages, but not viceversa: \n",
    " * conversations_review : if a booking ocurrs, then either participant can leave a review for the experience. This file has records of those reviews, which consists of a brief statement and a star rating.\n",
    " "
   ]
  },
  {
   "cell_type": "markdown",
   "metadata": {},
   "source": [
    "###   * Loading the data into a dataframes"
   ]
  },
  {
   "cell_type": "code",
   "execution_count": 5,
   "metadata": {},
   "outputs": [],
   "source": [
    "# importing the libraries\n",
    "import pandas as pd\n",
    "import numpy as np"
   ]
  },
  {
   "cell_type": "code",
   "execution_count": 7,
   "metadata": {},
   "outputs": [],
   "source": [
    "#Read the CSV data\n",
    "people_person = pd.read_csv ('../DataAnalysisPandas/datasets/people_person.csv')\n",
    "pets_pet = pd.read_csv ('../DataAnalysisPandas/datasets/pets_pet.csv')\n",
    "services_service = pd.read_csv ('../DataAnalysisPandas/datasets/services_service.csv')\n",
    "conversations_conversation = pd.read_csv ('../DataAnalysisPandas/datasets/conversations_conversation.csv')\n",
    "conversations_conversation_pets = pd.read_csv ('../DataAnalysisPandas/datasets/conversations_conversation_pets.csv')\n",
    "conversations_message = pd.read_csv ('../DataAnalysisPandas/datasets/conversations_message.csv')\n",
    "conversations_review = pd.read_csv ('../DataAnalysisPandas/datasets/conversations_review.csv')"
   ]
  },
  {
   "cell_type": "markdown",
   "metadata": {},
   "source": [
    "### * We will begin answering some questions to the business to get to know more the data\n",
    "\n",
    "1) How many users have signed up ?"
   ]
  },
  {
   "cell_type": "code",
   "execution_count": 8,
   "metadata": {},
   "outputs": [
    {
     "data": {
      "text/html": [
       "<div>\n",
       "<style scoped>\n",
       "    .dataframe tbody tr th:only-of-type {\n",
       "        vertical-align: middle;\n",
       "    }\n",
       "\n",
       "    .dataframe tbody tr th {\n",
       "        vertical-align: top;\n",
       "    }\n",
       "\n",
       "    .dataframe thead th {\n",
       "        text-align: right;\n",
       "    }\n",
       "</style>\n",
       "<table border=\"1\" class=\"dataframe\">\n",
       "  <thead>\n",
       "    <tr style=\"text-align: right;\">\n",
       "      <th></th>\n",
       "      <th>id</th>\n",
       "      <th>first_name</th>\n",
       "      <th>last_name</th>\n",
       "      <th>email</th>\n",
       "      <th>channel</th>\n",
       "      <th>date_joined</th>\n",
       "      <th>photo</th>\n",
       "      <th>fee</th>\n",
       "      <th>gender</th>\n",
       "    </tr>\n",
       "  </thead>\n",
       "  <tbody>\n",
       "    <tr>\n",
       "      <td>0</td>\n",
       "      <td>1</td>\n",
       "      <td>Leanora</td>\n",
       "      <td>Allcock</td>\n",
       "      <td>leanora.allcock635@hotmail.com</td>\n",
       "      <td>NaN</td>\n",
       "      <td>2016-08-02 14:59:15.095591</td>\n",
       "      <td>https://placekitten.com/242/269</td>\n",
       "      <td>0.0</td>\n",
       "      <td>f</td>\n",
       "    </tr>\n",
       "    <tr>\n",
       "      <td>1</td>\n",
       "      <td>2</td>\n",
       "      <td>Elroy</td>\n",
       "      <td>Blanding</td>\n",
       "      <td>elroy.blanding510@yahoo.com</td>\n",
       "      <td>NaN</td>\n",
       "      <td>2016-08-02 18:15:30.105940</td>\n",
       "      <td>https://placekitten.com/373/320</td>\n",
       "      <td>0.0</td>\n",
       "      <td>m</td>\n",
       "    </tr>\n",
       "    <tr>\n",
       "      <td>2</td>\n",
       "      <td>3</td>\n",
       "      <td>Jeanice</td>\n",
       "      <td>Aleman</td>\n",
       "      <td>jeanice.aleman392@hotmail.com</td>\n",
       "      <td>NaN</td>\n",
       "      <td>2016-08-02 16:11:09.542004</td>\n",
       "      <td>https://placekitten.com/238/264</td>\n",
       "      <td>0.0</td>\n",
       "      <td>f</td>\n",
       "    </tr>\n",
       "    <tr>\n",
       "      <td>3</td>\n",
       "      <td>4</td>\n",
       "      <td>Tamala</td>\n",
       "      <td>Polhamus</td>\n",
       "      <td>tamala.polhamus146@aol.com</td>\n",
       "      <td>NaN</td>\n",
       "      <td>2016-08-02 18:02:40.389299</td>\n",
       "      <td>https://placekitten.com/220/223</td>\n",
       "      <td>0.0</td>\n",
       "      <td>f</td>\n",
       "    </tr>\n",
       "    <tr>\n",
       "      <td>4</td>\n",
       "      <td>5</td>\n",
       "      <td>Alethea</td>\n",
       "      <td>Gubler</td>\n",
       "      <td>alethea.gubler708@aol.com</td>\n",
       "      <td>NaN</td>\n",
       "      <td>2016-08-02 14:31:53.163034</td>\n",
       "      <td>https://placekitten.com/284/339</td>\n",
       "      <td>0.0</td>\n",
       "      <td>f</td>\n",
       "    </tr>\n",
       "  </tbody>\n",
       "</table>\n",
       "</div>"
      ],
      "text/plain": [
       "   id first_name last_name                           email channel  \\\n",
       "0   1    Leanora   Allcock  leanora.allcock635@hotmail.com     NaN   \n",
       "1   2      Elroy  Blanding     elroy.blanding510@yahoo.com     NaN   \n",
       "2   3    Jeanice    Aleman   jeanice.aleman392@hotmail.com     NaN   \n",
       "3   4     Tamala  Polhamus      tamala.polhamus146@aol.com     NaN   \n",
       "4   5    Alethea    Gubler       alethea.gubler708@aol.com     NaN   \n",
       "\n",
       "                  date_joined                            photo  fee gender  \n",
       "0  2016-08-02 14:59:15.095591  https://placekitten.com/242/269  0.0      f  \n",
       "1  2016-08-02 18:15:30.105940  https://placekitten.com/373/320  0.0      m  \n",
       "2  2016-08-02 16:11:09.542004  https://placekitten.com/238/264  0.0      f  \n",
       "3  2016-08-02 18:02:40.389299  https://placekitten.com/220/223  0.0      f  \n",
       "4  2016-08-02 14:31:53.163034  https://placekitten.com/284/339  0.0      f  "
      ]
     },
     "execution_count": 8,
     "metadata": {},
     "output_type": "execute_result"
    }
   ],
   "source": [
    "# lets take a look of the people person  data\n",
    "people_person.head()"
   ]
  },
  {
   "cell_type": "code",
   "execution_count": 34,
   "metadata": {},
   "outputs": [
    {
     "data": {
      "text/plain": [
       "64393"
      ]
     },
     "execution_count": 34,
     "metadata": {},
     "output_type": "execute_result"
    }
   ],
   "source": [
    "count_users = people_person.id.count()\n",
    "count_users"
   ]
  },
  {
   "cell_type": "code",
   "execution_count": 21,
   "metadata": {
    "scrolled": true
   },
   "outputs": [
    {
     "data": {
      "text/html": [
       "<div>\n",
       "<style scoped>\n",
       "    .dataframe tbody tr th:only-of-type {\n",
       "        vertical-align: middle;\n",
       "    }\n",
       "\n",
       "    .dataframe tbody tr th {\n",
       "        vertical-align: top;\n",
       "    }\n",
       "\n",
       "    .dataframe thead th {\n",
       "        text-align: right;\n",
       "    }\n",
       "</style>\n",
       "<table border=\"1\" class=\"dataframe\">\n",
       "  <thead>\n",
       "    <tr style=\"text-align: right;\">\n",
       "      <th></th>\n",
       "      <th>first_name</th>\n",
       "      <th>last_name</th>\n",
       "      <th>email</th>\n",
       "      <th>channel</th>\n",
       "      <th>date_joined</th>\n",
       "      <th>photo</th>\n",
       "      <th>fee</th>\n",
       "    </tr>\n",
       "    <tr>\n",
       "      <th>gender</th>\n",
       "      <th></th>\n",
       "      <th></th>\n",
       "      <th></th>\n",
       "      <th></th>\n",
       "      <th></th>\n",
       "      <th></th>\n",
       "      <th></th>\n",
       "    </tr>\n",
       "  </thead>\n",
       "  <tbody>\n",
       "    <tr>\n",
       "      <td>f</td>\n",
       "      <td>32075</td>\n",
       "      <td>32075</td>\n",
       "      <td>32075</td>\n",
       "      <td>25781</td>\n",
       "      <td>32075</td>\n",
       "      <td>32075</td>\n",
       "      <td>32075</td>\n",
       "    </tr>\n",
       "    <tr>\n",
       "      <td>m</td>\n",
       "      <td>32318</td>\n",
       "      <td>32318</td>\n",
       "      <td>32318</td>\n",
       "      <td>25874</td>\n",
       "      <td>32318</td>\n",
       "      <td>32318</td>\n",
       "      <td>32318</td>\n",
       "    </tr>\n",
       "  </tbody>\n",
       "</table>\n",
       "</div>"
      ],
      "text/plain": [
       "        first_name  last_name  email  channel  date_joined  photo    fee\n",
       "gender                                                                  \n",
       "f            32075      32075  32075    25781        32075  32075  32075\n",
       "m            32318      32318  32318    25874        32318  32318  32318"
      ]
     },
     "execution_count": 21,
     "metadata": {},
     "output_type": "execute_result"
    }
   ],
   "source": [
    "# you can also count the users for one level multindex\n",
    "count_users1 = people_person.set_index([\"id\", \"gender\"]).count(level = \"gender\")\n",
    "count_users1"
   ]
  },
  {
   "cell_type": "markdown",
   "metadata": {},
   "source": [
    "2) How many users signed up prior to 2018-02-03 ?"
   ]
  },
  {
   "cell_type": "code",
   "execution_count": 35,
   "metadata": {},
   "outputs": [
    {
     "data": {
      "text/plain": [
       "35826"
      ]
     },
     "execution_count": 35,
     "metadata": {},
     "output_type": "execute_result"
    }
   ],
   "source": [
    "users_prior = people_person [(people_person['date_joined'] < '2018-02-03')].id.count()\n",
    "users_prior\n",
    "# another way\n",
    "#total_date_joined = users_prior[['id']]\n",
    "#total_date_joined"
   ]
  },
  {
   "cell_type": "markdown",
   "metadata": {},
   "source": [
    " 3) What percentaje of users have added pets ?\n",
    " To find how many users have added pets we will need to use more than one file, because one file  has the customers and one file has the pets.\n",
    " When we join a data set by the keys we will need to set that key as index"
   ]
  },
  {
   "cell_type": "markdown",
   "metadata": {},
   "source": [
    "Lets take a look at the data in the two csv"
   ]
  },
  {
   "cell_type": "code",
   "execution_count": 39,
   "metadata": {},
   "outputs": [
    {
     "data": {
      "text/html": [
       "<div>\n",
       "<style scoped>\n",
       "    .dataframe tbody tr th:only-of-type {\n",
       "        vertical-align: middle;\n",
       "    }\n",
       "\n",
       "    .dataframe tbody tr th {\n",
       "        vertical-align: top;\n",
       "    }\n",
       "\n",
       "    .dataframe thead th {\n",
       "        text-align: right;\n",
       "    }\n",
       "</style>\n",
       "<table border=\"1\" class=\"dataframe\">\n",
       "  <thead>\n",
       "    <tr style=\"text-align: right;\">\n",
       "      <th></th>\n",
       "      <th>id</th>\n",
       "      <th>name</th>\n",
       "      <th>description</th>\n",
       "      <th>gender</th>\n",
       "      <th>weight</th>\n",
       "      <th>birthday</th>\n",
       "      <th>plays_cats</th>\n",
       "      <th>plays_children</th>\n",
       "      <th>plays_dogs</th>\n",
       "      <th>spayed_neutered</th>\n",
       "      <th>house_trained</th>\n",
       "      <th>size</th>\n",
       "      <th>owner_id</th>\n",
       "    </tr>\n",
       "  </thead>\n",
       "  <tbody>\n",
       "    <tr>\n",
       "      <td>0</td>\n",
       "      <td>1</td>\n",
       "      <td>Jammie</td>\n",
       "      <td>Morbi fames a mauris elit malesuada platea.</td>\n",
       "      <td>f</td>\n",
       "      <td>76</td>\n",
       "      <td>2016-05-26</td>\n",
       "      <td>1</td>\n",
       "      <td>1</td>\n",
       "      <td>1</td>\n",
       "      <td>1</td>\n",
       "      <td>1</td>\n",
       "      <td>large</td>\n",
       "      <td>12601</td>\n",
       "    </tr>\n",
       "    <tr>\n",
       "      <td>1</td>\n",
       "      <td>2</td>\n",
       "      <td>Lonnie</td>\n",
       "      <td>Class magna a libero felis sociosqu.</td>\n",
       "      <td>f</td>\n",
       "      <td>12</td>\n",
       "      <td>2014-05-20</td>\n",
       "      <td>0</td>\n",
       "      <td>1</td>\n",
       "      <td>1</td>\n",
       "      <td>1</td>\n",
       "      <td>0</td>\n",
       "      <td>small</td>\n",
       "      <td>12602</td>\n",
       "    </tr>\n",
       "    <tr>\n",
       "      <td>2</td>\n",
       "      <td>3</td>\n",
       "      <td>Emely</td>\n",
       "      <td>Felis class.</td>\n",
       "      <td>m</td>\n",
       "      <td>11</td>\n",
       "      <td>2014-08-21</td>\n",
       "      <td>0</td>\n",
       "      <td>1</td>\n",
       "      <td>1</td>\n",
       "      <td>1</td>\n",
       "      <td>0</td>\n",
       "      <td>small</td>\n",
       "      <td>12602</td>\n",
       "    </tr>\n",
       "    <tr>\n",
       "      <td>3</td>\n",
       "      <td>4</td>\n",
       "      <td>Emelia</td>\n",
       "      <td>Fames class egestas mollis risus posuere.</td>\n",
       "      <td>f</td>\n",
       "      <td>35</td>\n",
       "      <td>2013-09-23</td>\n",
       "      <td>1</td>\n",
       "      <td>1</td>\n",
       "      <td>1</td>\n",
       "      <td>0</td>\n",
       "      <td>0</td>\n",
       "      <td>medium</td>\n",
       "      <td>12603</td>\n",
       "    </tr>\n",
       "    <tr>\n",
       "      <td>4</td>\n",
       "      <td>5</td>\n",
       "      <td>Jami</td>\n",
       "      <td>Netus augue a congue orci.</td>\n",
       "      <td>m</td>\n",
       "      <td>35</td>\n",
       "      <td>2014-05-13</td>\n",
       "      <td>0</td>\n",
       "      <td>1</td>\n",
       "      <td>1</td>\n",
       "      <td>1</td>\n",
       "      <td>1</td>\n",
       "      <td>medium</td>\n",
       "      <td>12603</td>\n",
       "    </tr>\n",
       "  </tbody>\n",
       "</table>\n",
       "</div>"
      ],
      "text/plain": [
       "   id    name                                  description gender  weight  \\\n",
       "0   1  Jammie  Morbi fames a mauris elit malesuada platea.      f      76   \n",
       "1   2  Lonnie         Class magna a libero felis sociosqu.      f      12   \n",
       "2   3   Emely                                 Felis class.      m      11   \n",
       "3   4  Emelia    Fames class egestas mollis risus posuere.      f      35   \n",
       "4   5    Jami                   Netus augue a congue orci.      m      35   \n",
       "\n",
       "     birthday  plays_cats  plays_children  plays_dogs  spayed_neutered  \\\n",
       "0  2016-05-26           1               1           1                1   \n",
       "1  2014-05-20           0               1           1                1   \n",
       "2  2014-08-21           0               1           1                1   \n",
       "3  2013-09-23           1               1           1                0   \n",
       "4  2014-05-13           0               1           1                1   \n",
       "\n",
       "   house_trained    size  owner_id  \n",
       "0              1   large     12601  \n",
       "1              0   small     12602  \n",
       "2              0   small     12602  \n",
       "3              0  medium     12603  \n",
       "4              1  medium     12603  "
      ]
     },
     "execution_count": 39,
     "metadata": {},
     "output_type": "execute_result"
    }
   ],
   "source": [
    "pets_pet.head()"
   ]
  },
  {
   "cell_type": "code",
   "execution_count": 38,
   "metadata": {},
   "outputs": [
    {
     "data": {
      "text/html": [
       "<div>\n",
       "<style scoped>\n",
       "    .dataframe tbody tr th:only-of-type {\n",
       "        vertical-align: middle;\n",
       "    }\n",
       "\n",
       "    .dataframe tbody tr th {\n",
       "        vertical-align: top;\n",
       "    }\n",
       "\n",
       "    .dataframe thead th {\n",
       "        text-align: right;\n",
       "    }\n",
       "</style>\n",
       "<table border=\"1\" class=\"dataframe\">\n",
       "  <thead>\n",
       "    <tr style=\"text-align: right;\">\n",
       "      <th></th>\n",
       "      <th>id</th>\n",
       "      <th>first_name</th>\n",
       "      <th>last_name</th>\n",
       "      <th>email</th>\n",
       "      <th>channel</th>\n",
       "      <th>date_joined</th>\n",
       "      <th>photo</th>\n",
       "      <th>fee</th>\n",
       "      <th>gender</th>\n",
       "    </tr>\n",
       "  </thead>\n",
       "  <tbody>\n",
       "    <tr>\n",
       "      <td>0</td>\n",
       "      <td>1</td>\n",
       "      <td>Leanora</td>\n",
       "      <td>Allcock</td>\n",
       "      <td>leanora.allcock635@hotmail.com</td>\n",
       "      <td>NaN</td>\n",
       "      <td>2016-08-02 14:59:15.095591</td>\n",
       "      <td>https://placekitten.com/242/269</td>\n",
       "      <td>0.0</td>\n",
       "      <td>f</td>\n",
       "    </tr>\n",
       "    <tr>\n",
       "      <td>1</td>\n",
       "      <td>2</td>\n",
       "      <td>Elroy</td>\n",
       "      <td>Blanding</td>\n",
       "      <td>elroy.blanding510@yahoo.com</td>\n",
       "      <td>NaN</td>\n",
       "      <td>2016-08-02 18:15:30.105940</td>\n",
       "      <td>https://placekitten.com/373/320</td>\n",
       "      <td>0.0</td>\n",
       "      <td>m</td>\n",
       "    </tr>\n",
       "    <tr>\n",
       "      <td>2</td>\n",
       "      <td>3</td>\n",
       "      <td>Jeanice</td>\n",
       "      <td>Aleman</td>\n",
       "      <td>jeanice.aleman392@hotmail.com</td>\n",
       "      <td>NaN</td>\n",
       "      <td>2016-08-02 16:11:09.542004</td>\n",
       "      <td>https://placekitten.com/238/264</td>\n",
       "      <td>0.0</td>\n",
       "      <td>f</td>\n",
       "    </tr>\n",
       "    <tr>\n",
       "      <td>3</td>\n",
       "      <td>4</td>\n",
       "      <td>Tamala</td>\n",
       "      <td>Polhamus</td>\n",
       "      <td>tamala.polhamus146@aol.com</td>\n",
       "      <td>NaN</td>\n",
       "      <td>2016-08-02 18:02:40.389299</td>\n",
       "      <td>https://placekitten.com/220/223</td>\n",
       "      <td>0.0</td>\n",
       "      <td>f</td>\n",
       "    </tr>\n",
       "    <tr>\n",
       "      <td>4</td>\n",
       "      <td>5</td>\n",
       "      <td>Alethea</td>\n",
       "      <td>Gubler</td>\n",
       "      <td>alethea.gubler708@aol.com</td>\n",
       "      <td>NaN</td>\n",
       "      <td>2016-08-02 14:31:53.163034</td>\n",
       "      <td>https://placekitten.com/284/339</td>\n",
       "      <td>0.0</td>\n",
       "      <td>f</td>\n",
       "    </tr>\n",
       "  </tbody>\n",
       "</table>\n",
       "</div>"
      ],
      "text/plain": [
       "   id first_name last_name                           email channel  \\\n",
       "0   1    Leanora   Allcock  leanora.allcock635@hotmail.com     NaN   \n",
       "1   2      Elroy  Blanding     elroy.blanding510@yahoo.com     NaN   \n",
       "2   3    Jeanice    Aleman   jeanice.aleman392@hotmail.com     NaN   \n",
       "3   4     Tamala  Polhamus      tamala.polhamus146@aol.com     NaN   \n",
       "4   5    Alethea    Gubler       alethea.gubler708@aol.com     NaN   \n",
       "\n",
       "                  date_joined                            photo  fee gender  \n",
       "0  2016-08-02 14:59:15.095591  https://placekitten.com/242/269  0.0      f  \n",
       "1  2016-08-02 18:15:30.105940  https://placekitten.com/373/320  0.0      m  \n",
       "2  2016-08-02 16:11:09.542004  https://placekitten.com/238/264  0.0      f  \n",
       "3  2016-08-02 18:02:40.389299  https://placekitten.com/220/223  0.0      f  \n",
       "4  2016-08-02 14:31:53.163034  https://placekitten.com/284/339  0.0      f  "
      ]
     },
     "execution_count": 38,
     "metadata": {},
     "output_type": "execute_result"
    }
   ],
   "source": [
    "people_person.head()"
   ]
  },
  {
   "cell_type": "markdown",
   "metadata": {},
   "source": [
    "Note that the connection is the people_person id column with the pets_pet owner_id"
   ]
  },
  {
   "cell_type": "code",
   "execution_count": 122,
   "metadata": {
    "scrolled": true
   },
   "outputs": [
    {
     "data": {
      "text/html": [
       "<div>\n",
       "<style scoped>\n",
       "    .dataframe tbody tr th:only-of-type {\n",
       "        vertical-align: middle;\n",
       "    }\n",
       "\n",
       "    .dataframe tbody tr th {\n",
       "        vertical-align: top;\n",
       "    }\n",
       "\n",
       "    .dataframe thead th {\n",
       "        text-align: right;\n",
       "    }\n",
       "</style>\n",
       "<table border=\"1\" class=\"dataframe\">\n",
       "  <thead>\n",
       "    <tr style=\"text-align: right;\">\n",
       "      <th></th>\n",
       "      <th>id_left</th>\n",
       "      <th>name</th>\n",
       "      <th>description</th>\n",
       "      <th>gender_left</th>\n",
       "      <th>weight</th>\n",
       "      <th>birthday</th>\n",
       "      <th>plays_cats</th>\n",
       "      <th>plays_children</th>\n",
       "      <th>plays_dogs</th>\n",
       "      <th>spayed_neutered</th>\n",
       "      <th>...</th>\n",
       "      <th>owner_id</th>\n",
       "      <th>id_right</th>\n",
       "      <th>first_name</th>\n",
       "      <th>last_name</th>\n",
       "      <th>email</th>\n",
       "      <th>channel</th>\n",
       "      <th>date_joined</th>\n",
       "      <th>photo</th>\n",
       "      <th>fee</th>\n",
       "      <th>gender_right</th>\n",
       "    </tr>\n",
       "  </thead>\n",
       "  <tbody>\n",
       "    <tr>\n",
       "      <td>0</td>\n",
       "      <td>1</td>\n",
       "      <td>Jammie</td>\n",
       "      <td>Morbi fames a mauris elit malesuada platea.</td>\n",
       "      <td>f</td>\n",
       "      <td>76</td>\n",
       "      <td>2016-05-26</td>\n",
       "      <td>1</td>\n",
       "      <td>1</td>\n",
       "      <td>1</td>\n",
       "      <td>1</td>\n",
       "      <td>...</td>\n",
       "      <td>12601</td>\n",
       "      <td>12601</td>\n",
       "      <td>Juliane</td>\n",
       "      <td>Vranicar</td>\n",
       "      <td>juliane.vranicar409@gmail.com</td>\n",
       "      <td>Google</td>\n",
       "      <td>2018-03-12 01:46:38.845836</td>\n",
       "      <td>https://placekitten.com/272/388</td>\n",
       "      <td>0.07</td>\n",
       "      <td>f</td>\n",
       "    </tr>\n",
       "    <tr>\n",
       "      <td>1</td>\n",
       "      <td>2</td>\n",
       "      <td>Lonnie</td>\n",
       "      <td>Class magna a libero felis sociosqu.</td>\n",
       "      <td>f</td>\n",
       "      <td>12</td>\n",
       "      <td>2014-05-20</td>\n",
       "      <td>0</td>\n",
       "      <td>1</td>\n",
       "      <td>1</td>\n",
       "      <td>1</td>\n",
       "      <td>...</td>\n",
       "      <td>12602</td>\n",
       "      <td>12602</td>\n",
       "      <td>Barton</td>\n",
       "      <td>Wilcoxon</td>\n",
       "      <td>barton.wilcoxon366@rover.com</td>\n",
       "      <td>Google</td>\n",
       "      <td>2017-12-11 20:59:13.074504</td>\n",
       "      <td>https://placekitten.com/355/244</td>\n",
       "      <td>0.07</td>\n",
       "      <td>m</td>\n",
       "    </tr>\n",
       "    <tr>\n",
       "      <td>2</td>\n",
       "      <td>3</td>\n",
       "      <td>Emely</td>\n",
       "      <td>Felis class.</td>\n",
       "      <td>m</td>\n",
       "      <td>11</td>\n",
       "      <td>2014-08-21</td>\n",
       "      <td>0</td>\n",
       "      <td>1</td>\n",
       "      <td>1</td>\n",
       "      <td>1</td>\n",
       "      <td>...</td>\n",
       "      <td>12602</td>\n",
       "      <td>12602</td>\n",
       "      <td>Barton</td>\n",
       "      <td>Wilcoxon</td>\n",
       "      <td>barton.wilcoxon366@rover.com</td>\n",
       "      <td>Google</td>\n",
       "      <td>2017-12-11 20:59:13.074504</td>\n",
       "      <td>https://placekitten.com/355/244</td>\n",
       "      <td>0.07</td>\n",
       "      <td>m</td>\n",
       "    </tr>\n",
       "    <tr>\n",
       "      <td>3</td>\n",
       "      <td>4</td>\n",
       "      <td>Emelia</td>\n",
       "      <td>Fames class egestas mollis risus posuere.</td>\n",
       "      <td>f</td>\n",
       "      <td>35</td>\n",
       "      <td>2013-09-23</td>\n",
       "      <td>1</td>\n",
       "      <td>1</td>\n",
       "      <td>1</td>\n",
       "      <td>0</td>\n",
       "      <td>...</td>\n",
       "      <td>12603</td>\n",
       "      <td>12603</td>\n",
       "      <td>Lupe</td>\n",
       "      <td>Taney</td>\n",
       "      <td>lupe.taney349@aol.com</td>\n",
       "      <td>WOM</td>\n",
       "      <td>2017-08-30 21:13:26.371762</td>\n",
       "      <td>https://placekitten.com/299/271</td>\n",
       "      <td>0.05</td>\n",
       "      <td>f</td>\n",
       "    </tr>\n",
       "    <tr>\n",
       "      <td>4</td>\n",
       "      <td>5</td>\n",
       "      <td>Jami</td>\n",
       "      <td>Netus augue a congue orci.</td>\n",
       "      <td>m</td>\n",
       "      <td>35</td>\n",
       "      <td>2014-05-13</td>\n",
       "      <td>0</td>\n",
       "      <td>1</td>\n",
       "      <td>1</td>\n",
       "      <td>1</td>\n",
       "      <td>...</td>\n",
       "      <td>12603</td>\n",
       "      <td>12603</td>\n",
       "      <td>Lupe</td>\n",
       "      <td>Taney</td>\n",
       "      <td>lupe.taney349@aol.com</td>\n",
       "      <td>WOM</td>\n",
       "      <td>2017-08-30 21:13:26.371762</td>\n",
       "      <td>https://placekitten.com/299/271</td>\n",
       "      <td>0.05</td>\n",
       "      <td>f</td>\n",
       "    </tr>\n",
       "  </tbody>\n",
       "</table>\n",
       "<p>5 rows × 22 columns</p>\n",
       "</div>"
      ],
      "text/plain": [
       "   id_left    name                                  description gender_left  \\\n",
       "0        1  Jammie  Morbi fames a mauris elit malesuada platea.           f   \n",
       "1        2  Lonnie         Class magna a libero felis sociosqu.           f   \n",
       "2        3   Emely                                 Felis class.           m   \n",
       "3        4  Emelia    Fames class egestas mollis risus posuere.           f   \n",
       "4        5    Jami                   Netus augue a congue orci.           m   \n",
       "\n",
       "   weight    birthday  plays_cats  plays_children  plays_dogs  \\\n",
       "0      76  2016-05-26           1               1           1   \n",
       "1      12  2014-05-20           0               1           1   \n",
       "2      11  2014-08-21           0               1           1   \n",
       "3      35  2013-09-23           1               1           1   \n",
       "4      35  2014-05-13           0               1           1   \n",
       "\n",
       "   spayed_neutered  ...  owner_id id_right  first_name  last_name  \\\n",
       "0                1  ...     12601    12601     Juliane   Vranicar   \n",
       "1                1  ...     12602    12602      Barton   Wilcoxon   \n",
       "2                1  ...     12602    12602      Barton   Wilcoxon   \n",
       "3                0  ...     12603    12603        Lupe      Taney   \n",
       "4                1  ...     12603    12603        Lupe      Taney   \n",
       "\n",
       "                           email channel                 date_joined  \\\n",
       "0  juliane.vranicar409@gmail.com  Google  2018-03-12 01:46:38.845836   \n",
       "1   barton.wilcoxon366@rover.com  Google  2017-12-11 20:59:13.074504   \n",
       "2   barton.wilcoxon366@rover.com  Google  2017-12-11 20:59:13.074504   \n",
       "3          lupe.taney349@aol.com     WOM  2017-08-30 21:13:26.371762   \n",
       "4          lupe.taney349@aol.com     WOM  2017-08-30 21:13:26.371762   \n",
       "\n",
       "                             photo   fee gender_right  \n",
       "0  https://placekitten.com/272/388  0.07            f  \n",
       "1  https://placekitten.com/355/244  0.07            m  \n",
       "2  https://placekitten.com/355/244  0.07            m  \n",
       "3  https://placekitten.com/299/271  0.05            f  \n",
       "4  https://placekitten.com/299/271  0.05            f  \n",
       "\n",
       "[5 rows x 22 columns]"
      ]
     },
     "execution_count": 122,
     "metadata": {},
     "output_type": "execute_result"
    }
   ],
   "source": [
    "# lets join those two dataframes\n",
    "people_pets=pd.merge (pets_pet,people_person, how='left',left_on=['owner_id'], right_on=['id'], suffixes=('_left','_right'))\n",
    "people_pets.head()"
   ]
  },
  {
   "cell_type": "code",
   "execution_count": 64,
   "metadata": {},
   "outputs": [
    {
     "data": {
      "text/plain": [
       "51793"
      ]
     },
     "execution_count": 64,
     "metadata": {},
     "output_type": "execute_result"
    }
   ],
   "source": [
    "total_added_pet=pets_pet.owner_id.nunique()\n",
    "total_added_pet"
   ]
  },
  {
   "cell_type": "code",
   "execution_count": 63,
   "metadata": {},
   "outputs": [
    {
     "data": {
      "text/plain": [
       "64393"
      ]
     },
     "execution_count": 63,
     "metadata": {},
     "output_type": "execute_result"
    }
   ],
   "source": [
    "total_users=people_person.id.nunique()\n",
    "total_users"
   ]
  },
  {
   "cell_type": "code",
   "execution_count": 65,
   "metadata": {},
   "outputs": [
    {
     "data": {
      "text/plain": [
       "80.4326557234482"
      ]
     },
     "execution_count": 65,
     "metadata": {},
     "output_type": "execute_result"
    }
   ],
   "source": [
    "pecentage_added = total_added_pet * 100 / total_users\n",
    "pecentage_added"
   ]
  },
  {
   "cell_type": "markdown",
   "metadata": {},
   "source": [
    "4)  Of those users, how many they have been added on average ?"
   ]
  },
  {
   "cell_type": "code",
   "execution_count": 67,
   "metadata": {},
   "outputs": [
    {
     "data": {
      "text/plain": [
       "77730"
      ]
     },
     "execution_count": 67,
     "metadata": {},
     "output_type": "execute_result"
    }
   ],
   "source": [
    "# we will use need to use the total_user and calculate from those how many have been added \n",
    "total_added_pet_all = pets_pet.id.count()\n",
    "total_added_pet_all"
   ]
  },
  {
   "cell_type": "code",
   "execution_count": 68,
   "metadata": {},
   "outputs": [
    {
     "data": {
      "text/plain": [
       "1.500781958951982"
      ]
     },
     "execution_count": 68,
     "metadata": {},
     "output_type": "execute_result"
    }
   ],
   "source": [
    "added_average = total_added_pet_all /total_added_pet\n",
    "added_average"
   ]
  },
  {
   "cell_type": "markdown",
   "metadata": {},
   "source": [
    "5) What percentage of pets play well with cats?"
   ]
  },
  {
   "cell_type": "code",
   "execution_count": 95,
   "metadata": {},
   "outputs": [
    {
     "data": {
      "text/plain": [
       "24.850122217933873"
      ]
     },
     "execution_count": 95,
     "metadata": {},
     "output_type": "execute_result"
    }
   ],
   "source": [
    "total_plays_cats = (pets_pet.plays_cats.sum() * 100 ) / pets_pet.plays_cats.count()\n",
    "total_plays_cats"
   ]
  },
  {
   "cell_type": "markdown",
   "metadata": {},
   "source": [
    "6) How can we determine for bookings, if the owner is likely to leave a review?\n",
    "We will need to probably break this down into more questions , like the overall y bookings and ratings\n"
   ]
  },
  {
   "cell_type": "code",
   "execution_count": 98,
   "metadata": {},
   "outputs": [
    {
     "data": {
      "text/html": [
       "<div>\n",
       "<style scoped>\n",
       "    .dataframe tbody tr th:only-of-type {\n",
       "        vertical-align: middle;\n",
       "    }\n",
       "\n",
       "    .dataframe tbody tr th {\n",
       "        vertical-align: top;\n",
       "    }\n",
       "\n",
       "    .dataframe thead th {\n",
       "        text-align: right;\n",
       "    }\n",
       "</style>\n",
       "<table border=\"1\" class=\"dataframe\">\n",
       "  <thead>\n",
       "    <tr style=\"text-align: right;\">\n",
       "      <th></th>\n",
       "      <th>id</th>\n",
       "      <th>content</th>\n",
       "      <th>stars</th>\n",
       "      <th>conversation_id</th>\n",
       "      <th>reviewer_id</th>\n",
       "    </tr>\n",
       "  </thead>\n",
       "  <tbody>\n",
       "    <tr>\n",
       "      <td>0</td>\n",
       "      <td>1</td>\n",
       "      <td>Netus proin per duis dolor venenatis nam.</td>\n",
       "      <td>1</td>\n",
       "      <td>7</td>\n",
       "      <td>64386</td>\n",
       "    </tr>\n",
       "    <tr>\n",
       "      <td>1</td>\n",
       "      <td>2</td>\n",
       "      <td>Dolor proin donec phasellus ve suspendisse ac ...</td>\n",
       "      <td>5</td>\n",
       "      <td>9</td>\n",
       "      <td>64384</td>\n",
       "    </tr>\n",
       "    <tr>\n",
       "      <td>2</td>\n",
       "      <td>3</td>\n",
       "      <td>Proin ipsum urna nisl egestas justo class a ar...</td>\n",
       "      <td>5</td>\n",
       "      <td>11</td>\n",
       "      <td>64382</td>\n",
       "    </tr>\n",
       "    <tr>\n",
       "      <td>3</td>\n",
       "      <td>4</td>\n",
       "      <td>Porta velit lectus varius donec tellus sollici...</td>\n",
       "      <td>1</td>\n",
       "      <td>13</td>\n",
       "      <td>64381</td>\n",
       "    </tr>\n",
       "    <tr>\n",
       "      <td>4</td>\n",
       "      <td>5</td>\n",
       "      <td>Dolor felis.</td>\n",
       "      <td>2</td>\n",
       "      <td>15</td>\n",
       "      <td>64379</td>\n",
       "    </tr>\n",
       "  </tbody>\n",
       "</table>\n",
       "</div>"
      ],
      "text/plain": [
       "   id                                            content  stars  \\\n",
       "0   1          Netus proin per duis dolor venenatis nam.      1   \n",
       "1   2  Dolor proin donec phasellus ve suspendisse ac ...      5   \n",
       "2   3  Proin ipsum urna nisl egestas justo class a ar...      5   \n",
       "3   4  Porta velit lectus varius donec tellus sollici...      1   \n",
       "4   5                                       Dolor felis.      2   \n",
       "\n",
       "   conversation_id  reviewer_id  \n",
       "0                7        64386  \n",
       "1                9        64384  \n",
       "2               11        64382  \n",
       "3               13        64381  \n",
       "4               15        64379  "
      ]
     },
     "execution_count": 98,
     "metadata": {},
     "output_type": "execute_result"
    }
   ],
   "source": [
    "conversations_review.head()"
   ]
  },
  {
   "cell_type": "code",
   "execution_count": 74,
   "metadata": {},
   "outputs": [
    {
     "data": {
      "text/html": [
       "<div>\n",
       "<style scoped>\n",
       "    .dataframe tbody tr th:only-of-type {\n",
       "        vertical-align: middle;\n",
       "    }\n",
       "\n",
       "    .dataframe tbody tr th {\n",
       "        vertical-align: top;\n",
       "    }\n",
       "\n",
       "    .dataframe thead th {\n",
       "        text-align: right;\n",
       "    }\n",
       "</style>\n",
       "<table border=\"1\" class=\"dataframe\">\n",
       "  <thead>\n",
       "    <tr style=\"text-align: right;\">\n",
       "      <th></th>\n",
       "      <th>id</th>\n",
       "      <th>start_date</th>\n",
       "      <th>end_date</th>\n",
       "      <th>units</th>\n",
       "      <th>added</th>\n",
       "      <th>booking_total</th>\n",
       "      <th>cancellation_fault</th>\n",
       "      <th>requester_id</th>\n",
       "      <th>service_id</th>\n",
       "      <th>booked_at</th>\n",
       "      <th>cancelled_at</th>\n",
       "    </tr>\n",
       "  </thead>\n",
       "  <tbody>\n",
       "    <tr>\n",
       "      <td>0</td>\n",
       "      <td>1</td>\n",
       "      <td>2018-07-26</td>\n",
       "      <td>2018-07-31</td>\n",
       "      <td>5</td>\n",
       "      <td>2018-07-16 10:17:53.460035</td>\n",
       "      <td>120</td>\n",
       "      <td>NaN</td>\n",
       "      <td>64393</td>\n",
       "      <td>4646</td>\n",
       "      <td>NaN</td>\n",
       "      <td>NaN</td>\n",
       "    </tr>\n",
       "    <tr>\n",
       "      <td>1</td>\n",
       "      <td>2</td>\n",
       "      <td>2018-08-10</td>\n",
       "      <td>2018-08-16</td>\n",
       "      <td>6</td>\n",
       "      <td>2018-08-01 10:20:48.626868</td>\n",
       "      <td>132</td>\n",
       "      <td>NaN</td>\n",
       "      <td>64392</td>\n",
       "      <td>10126</td>\n",
       "      <td>NaN</td>\n",
       "      <td>NaN</td>\n",
       "    </tr>\n",
       "    <tr>\n",
       "      <td>2</td>\n",
       "      <td>3</td>\n",
       "      <td>2018-06-16</td>\n",
       "      <td>2018-06-19</td>\n",
       "      <td>3</td>\n",
       "      <td>2018-06-05 16:46:39.542467</td>\n",
       "      <td>168</td>\n",
       "      <td>NaN</td>\n",
       "      <td>64391</td>\n",
       "      <td>20677</td>\n",
       "      <td>NaN</td>\n",
       "      <td>NaN</td>\n",
       "    </tr>\n",
       "    <tr>\n",
       "      <td>3</td>\n",
       "      <td>4</td>\n",
       "      <td>2018-07-13</td>\n",
       "      <td>2018-07-20</td>\n",
       "      <td>7</td>\n",
       "      <td>2018-07-02 09:12:22.275923</td>\n",
       "      <td>490</td>\n",
       "      <td>NaN</td>\n",
       "      <td>64391</td>\n",
       "      <td>3847</td>\n",
       "      <td>NaN</td>\n",
       "      <td>NaN</td>\n",
       "    </tr>\n",
       "    <tr>\n",
       "      <td>4</td>\n",
       "      <td>5</td>\n",
       "      <td>2018-07-02</td>\n",
       "      <td>2018-07-07</td>\n",
       "      <td>5</td>\n",
       "      <td>2018-06-21 16:02:48.694725</td>\n",
       "      <td>140</td>\n",
       "      <td>NaN</td>\n",
       "      <td>64389</td>\n",
       "      <td>9982</td>\n",
       "      <td>NaN</td>\n",
       "      <td>NaN</td>\n",
       "    </tr>\n",
       "  </tbody>\n",
       "</table>\n",
       "</div>"
      ],
      "text/plain": [
       "   id  start_date    end_date  units                       added  \\\n",
       "0   1  2018-07-26  2018-07-31      5  2018-07-16 10:17:53.460035   \n",
       "1   2  2018-08-10  2018-08-16      6  2018-08-01 10:20:48.626868   \n",
       "2   3  2018-06-16  2018-06-19      3  2018-06-05 16:46:39.542467   \n",
       "3   4  2018-07-13  2018-07-20      7  2018-07-02 09:12:22.275923   \n",
       "4   5  2018-07-02  2018-07-07      5  2018-06-21 16:02:48.694725   \n",
       "\n",
       "   booking_total cancellation_fault  requester_id  service_id booked_at  \\\n",
       "0            120                NaN         64393        4646       NaN   \n",
       "1            132                NaN         64392       10126       NaN   \n",
       "2            168                NaN         64391       20677       NaN   \n",
       "3            490                NaN         64391        3847       NaN   \n",
       "4            140                NaN         64389        9982       NaN   \n",
       "\n",
       "  cancelled_at  \n",
       "0          NaN  \n",
       "1          NaN  \n",
       "2          NaN  \n",
       "3          NaN  \n",
       "4          NaN  "
      ]
     },
     "execution_count": 74,
     "metadata": {},
     "output_type": "execute_result"
    }
   ],
   "source": [
    "conversations_conversation.head()"
   ]
  },
  {
   "cell_type": "code",
   "execution_count": 75,
   "metadata": {},
   "outputs": [
    {
     "data": {
      "text/html": [
       "<div>\n",
       "<style scoped>\n",
       "    .dataframe tbody tr th:only-of-type {\n",
       "        vertical-align: middle;\n",
       "    }\n",
       "\n",
       "    .dataframe tbody tr th {\n",
       "        vertical-align: top;\n",
       "    }\n",
       "\n",
       "    .dataframe thead th {\n",
       "        text-align: right;\n",
       "    }\n",
       "</style>\n",
       "<table border=\"1\" class=\"dataframe\">\n",
       "  <thead>\n",
       "    <tr style=\"text-align: right;\">\n",
       "      <th></th>\n",
       "      <th>id</th>\n",
       "      <th>first_name</th>\n",
       "      <th>last_name</th>\n",
       "      <th>email</th>\n",
       "      <th>channel</th>\n",
       "      <th>date_joined</th>\n",
       "      <th>photo</th>\n",
       "      <th>fee</th>\n",
       "      <th>gender</th>\n",
       "    </tr>\n",
       "  </thead>\n",
       "  <tbody>\n",
       "    <tr>\n",
       "      <td>0</td>\n",
       "      <td>1</td>\n",
       "      <td>Leanora</td>\n",
       "      <td>Allcock</td>\n",
       "      <td>leanora.allcock635@hotmail.com</td>\n",
       "      <td>NaN</td>\n",
       "      <td>2016-08-02 14:59:15.095591</td>\n",
       "      <td>https://placekitten.com/242/269</td>\n",
       "      <td>0.0</td>\n",
       "      <td>f</td>\n",
       "    </tr>\n",
       "    <tr>\n",
       "      <td>1</td>\n",
       "      <td>2</td>\n",
       "      <td>Elroy</td>\n",
       "      <td>Blanding</td>\n",
       "      <td>elroy.blanding510@yahoo.com</td>\n",
       "      <td>NaN</td>\n",
       "      <td>2016-08-02 18:15:30.105940</td>\n",
       "      <td>https://placekitten.com/373/320</td>\n",
       "      <td>0.0</td>\n",
       "      <td>m</td>\n",
       "    </tr>\n",
       "    <tr>\n",
       "      <td>2</td>\n",
       "      <td>3</td>\n",
       "      <td>Jeanice</td>\n",
       "      <td>Aleman</td>\n",
       "      <td>jeanice.aleman392@hotmail.com</td>\n",
       "      <td>NaN</td>\n",
       "      <td>2016-08-02 16:11:09.542004</td>\n",
       "      <td>https://placekitten.com/238/264</td>\n",
       "      <td>0.0</td>\n",
       "      <td>f</td>\n",
       "    </tr>\n",
       "    <tr>\n",
       "      <td>3</td>\n",
       "      <td>4</td>\n",
       "      <td>Tamala</td>\n",
       "      <td>Polhamus</td>\n",
       "      <td>tamala.polhamus146@aol.com</td>\n",
       "      <td>NaN</td>\n",
       "      <td>2016-08-02 18:02:40.389299</td>\n",
       "      <td>https://placekitten.com/220/223</td>\n",
       "      <td>0.0</td>\n",
       "      <td>f</td>\n",
       "    </tr>\n",
       "    <tr>\n",
       "      <td>4</td>\n",
       "      <td>5</td>\n",
       "      <td>Alethea</td>\n",
       "      <td>Gubler</td>\n",
       "      <td>alethea.gubler708@aol.com</td>\n",
       "      <td>NaN</td>\n",
       "      <td>2016-08-02 14:31:53.163034</td>\n",
       "      <td>https://placekitten.com/284/339</td>\n",
       "      <td>0.0</td>\n",
       "      <td>f</td>\n",
       "    </tr>\n",
       "  </tbody>\n",
       "</table>\n",
       "</div>"
      ],
      "text/plain": [
       "   id first_name last_name                           email channel  \\\n",
       "0   1    Leanora   Allcock  leanora.allcock635@hotmail.com     NaN   \n",
       "1   2      Elroy  Blanding     elroy.blanding510@yahoo.com     NaN   \n",
       "2   3    Jeanice    Aleman   jeanice.aleman392@hotmail.com     NaN   \n",
       "3   4     Tamala  Polhamus      tamala.polhamus146@aol.com     NaN   \n",
       "4   5    Alethea    Gubler       alethea.gubler708@aol.com     NaN   \n",
       "\n",
       "                  date_joined                            photo  fee gender  \n",
       "0  2016-08-02 14:59:15.095591  https://placekitten.com/242/269  0.0      f  \n",
       "1  2016-08-02 18:15:30.105940  https://placekitten.com/373/320  0.0      m  \n",
       "2  2016-08-02 16:11:09.542004  https://placekitten.com/238/264  0.0      f  \n",
       "3  2016-08-02 18:02:40.389299  https://placekitten.com/220/223  0.0      f  \n",
       "4  2016-08-02 14:31:53.163034  https://placekitten.com/284/339  0.0      f  "
      ]
     },
     "execution_count": 75,
     "metadata": {},
     "output_type": "execute_result"
    }
   ],
   "source": [
    "people_person.head()"
   ]
  },
  {
   "cell_type": "code",
   "execution_count": 116,
   "metadata": {},
   "outputs": [
    {
     "data": {
      "text/html": [
       "<div>\n",
       "<style scoped>\n",
       "    .dataframe tbody tr th:only-of-type {\n",
       "        vertical-align: middle;\n",
       "    }\n",
       "\n",
       "    .dataframe tbody tr th {\n",
       "        vertical-align: top;\n",
       "    }\n",
       "\n",
       "    .dataframe thead th {\n",
       "        text-align: right;\n",
       "    }\n",
       "</style>\n",
       "<table border=\"1\" class=\"dataframe\">\n",
       "  <thead>\n",
       "    <tr style=\"text-align: right;\">\n",
       "      <th></th>\n",
       "      <th>date_joined</th>\n",
       "      <th>gender</th>\n",
       "    </tr>\n",
       "    <tr>\n",
       "      <th>id</th>\n",
       "      <th></th>\n",
       "      <th></th>\n",
       "    </tr>\n",
       "  </thead>\n",
       "  <tbody>\n",
       "    <tr>\n",
       "      <td>1</td>\n",
       "      <td>2016-08-02 14:59:15.095591</td>\n",
       "      <td>f</td>\n",
       "    </tr>\n",
       "    <tr>\n",
       "      <td>2</td>\n",
       "      <td>2016-08-02 18:15:30.105940</td>\n",
       "      <td>m</td>\n",
       "    </tr>\n",
       "    <tr>\n",
       "      <td>3</td>\n",
       "      <td>2016-08-02 16:11:09.542004</td>\n",
       "      <td>f</td>\n",
       "    </tr>\n",
       "    <tr>\n",
       "      <td>4</td>\n",
       "      <td>2016-08-02 18:02:40.389299</td>\n",
       "      <td>f</td>\n",
       "    </tr>\n",
       "    <tr>\n",
       "      <td>5</td>\n",
       "      <td>2016-08-02 14:31:53.163034</td>\n",
       "      <td>f</td>\n",
       "    </tr>\n",
       "    <tr>\n",
       "      <td>...</td>\n",
       "      <td>...</td>\n",
       "      <td>...</td>\n",
       "    </tr>\n",
       "    <tr>\n",
       "      <td>64389</td>\n",
       "      <td>2018-06-19 14:42:37.634474</td>\n",
       "      <td>m</td>\n",
       "    </tr>\n",
       "    <tr>\n",
       "      <td>64390</td>\n",
       "      <td>2018-07-29 06:42:31.039837</td>\n",
       "      <td>m</td>\n",
       "    </tr>\n",
       "    <tr>\n",
       "      <td>64391</td>\n",
       "      <td>2018-06-01 17:21:39.450001</td>\n",
       "      <td>f</td>\n",
       "    </tr>\n",
       "    <tr>\n",
       "      <td>64392</td>\n",
       "      <td>2018-07-30 03:18:03.550672</td>\n",
       "      <td>m</td>\n",
       "    </tr>\n",
       "    <tr>\n",
       "      <td>64393</td>\n",
       "      <td>2018-07-15 01:45:41.618416</td>\n",
       "      <td>f</td>\n",
       "    </tr>\n",
       "  </tbody>\n",
       "</table>\n",
       "<p>64393 rows × 2 columns</p>\n",
       "</div>"
      ],
      "text/plain": [
       "                      date_joined gender\n",
       "id                                      \n",
       "1      2016-08-02 14:59:15.095591      f\n",
       "2      2016-08-02 18:15:30.105940      m\n",
       "3      2016-08-02 16:11:09.542004      f\n",
       "4      2016-08-02 18:02:40.389299      f\n",
       "5      2016-08-02 14:31:53.163034      f\n",
       "...                           ...    ...\n",
       "64389  2018-06-19 14:42:37.634474      m\n",
       "64390  2018-07-29 06:42:31.039837      m\n",
       "64391  2018-06-01 17:21:39.450001      f\n",
       "64392  2018-07-30 03:18:03.550672      m\n",
       "64393  2018-07-15 01:45:41.618416      f\n",
       "\n",
       "[64393 rows x 2 columns]"
      ]
     },
     "execution_count": 116,
     "metadata": {},
     "output_type": "execute_result"
    }
   ],
   "source": [
    "pe_person = people_person [[\"id\",\"date_joined\", \"gender\"]]\n",
    "#pe_person.head()\n",
    "pe_person.set_index([\"id\"])"
   ]
  },
  {
   "cell_type": "code",
   "execution_count": 115,
   "metadata": {},
   "outputs": [
    {
     "data": {
      "text/html": [
       "<div>\n",
       "<style scoped>\n",
       "    .dataframe tbody tr th:only-of-type {\n",
       "        vertical-align: middle;\n",
       "    }\n",
       "\n",
       "    .dataframe tbody tr th {\n",
       "        vertical-align: top;\n",
       "    }\n",
       "\n",
       "    .dataframe thead th {\n",
       "        text-align: right;\n",
       "    }\n",
       "</style>\n",
       "<table border=\"1\" class=\"dataframe\">\n",
       "  <thead>\n",
       "    <tr style=\"text-align: right;\">\n",
       "      <th></th>\n",
       "      <th>stars</th>\n",
       "    </tr>\n",
       "    <tr>\n",
       "      <th>reviewer_id</th>\n",
       "      <th></th>\n",
       "    </tr>\n",
       "  </thead>\n",
       "  <tbody>\n",
       "    <tr>\n",
       "      <td>64386</td>\n",
       "      <td>1</td>\n",
       "    </tr>\n",
       "    <tr>\n",
       "      <td>64384</td>\n",
       "      <td>5</td>\n",
       "    </tr>\n",
       "    <tr>\n",
       "      <td>64382</td>\n",
       "      <td>5</td>\n",
       "    </tr>\n",
       "    <tr>\n",
       "      <td>64381</td>\n",
       "      <td>1</td>\n",
       "    </tr>\n",
       "    <tr>\n",
       "      <td>64379</td>\n",
       "      <td>2</td>\n",
       "    </tr>\n",
       "    <tr>\n",
       "      <td>...</td>\n",
       "      <td>...</td>\n",
       "    </tr>\n",
       "    <tr>\n",
       "      <td>12608</td>\n",
       "      <td>4</td>\n",
       "    </tr>\n",
       "    <tr>\n",
       "      <td>12607</td>\n",
       "      <td>5</td>\n",
       "    </tr>\n",
       "    <tr>\n",
       "      <td>12606</td>\n",
       "      <td>1</td>\n",
       "    </tr>\n",
       "    <tr>\n",
       "      <td>12604</td>\n",
       "      <td>5</td>\n",
       "    </tr>\n",
       "    <tr>\n",
       "      <td>12603</td>\n",
       "      <td>5</td>\n",
       "    </tr>\n",
       "  </tbody>\n",
       "</table>\n",
       "<p>28561 rows × 1 columns</p>\n",
       "</div>"
      ],
      "text/plain": [
       "             stars\n",
       "reviewer_id       \n",
       "64386            1\n",
       "64384            5\n",
       "64382            5\n",
       "64381            1\n",
       "64379            2\n",
       "...            ...\n",
       "12608            4\n",
       "12607            5\n",
       "12606            1\n",
       "12604            5\n",
       "12603            5\n",
       "\n",
       "[28561 rows x 1 columns]"
      ]
     },
     "execution_count": 115,
     "metadata": {},
     "output_type": "execute_result"
    }
   ],
   "source": [
    "conv_review = conversations_review[[\"reviewer_id\", \"stars\"]]\n",
    "conv_review.set_index([\"reviewer_id\"])\n",
    "#conv_review.head()"
   ]
  },
  {
   "cell_type": "code",
   "execution_count": 121,
   "metadata": {},
   "outputs": [
    {
     "data": {
      "text/html": [
       "<div>\n",
       "<style scoped>\n",
       "    .dataframe tbody tr th:only-of-type {\n",
       "        vertical-align: middle;\n",
       "    }\n",
       "\n",
       "    .dataframe tbody tr th {\n",
       "        vertical-align: top;\n",
       "    }\n",
       "\n",
       "    .dataframe thead th {\n",
       "        text-align: right;\n",
       "    }\n",
       "</style>\n",
       "<table border=\"1\" class=\"dataframe\">\n",
       "  <thead>\n",
       "    <tr style=\"text-align: right;\">\n",
       "      <th></th>\n",
       "      <th>booked_at</th>\n",
       "      <th>cancelled_at</th>\n",
       "    </tr>\n",
       "    <tr>\n",
       "      <th>requester_id</th>\n",
       "      <th></th>\n",
       "      <th></th>\n",
       "    </tr>\n",
       "  </thead>\n",
       "  <tbody>\n",
       "    <tr>\n",
       "      <td>64393</td>\n",
       "      <td>NaN</td>\n",
       "      <td>NaN</td>\n",
       "    </tr>\n",
       "    <tr>\n",
       "      <td>64392</td>\n",
       "      <td>NaN</td>\n",
       "      <td>NaN</td>\n",
       "    </tr>\n",
       "    <tr>\n",
       "      <td>64391</td>\n",
       "      <td>NaN</td>\n",
       "      <td>NaN</td>\n",
       "    </tr>\n",
       "    <tr>\n",
       "      <td>64391</td>\n",
       "      <td>NaN</td>\n",
       "      <td>NaN</td>\n",
       "    </tr>\n",
       "    <tr>\n",
       "      <td>64389</td>\n",
       "      <td>NaN</td>\n",
       "      <td>NaN</td>\n",
       "    </tr>\n",
       "  </tbody>\n",
       "</table>\n",
       "</div>"
      ],
      "text/plain": [
       "             booked_at cancelled_at\n",
       "requester_id                       \n",
       "64393              NaN          NaN\n",
       "64392              NaN          NaN\n",
       "64391              NaN          NaN\n",
       "64391              NaN          NaN\n",
       "64389              NaN          NaN"
      ]
     },
     "execution_count": 121,
     "metadata": {},
     "output_type": "execute_result"
    }
   ],
   "source": [
    "con_con = conversations_conversation[[\"requester_id\", \"booked_at\", \"cancelled_at\"]]\n",
    "con_final = con_con.set_index([\"requester_id\"])\n",
    "con_final.head()"
   ]
  },
  {
   "cell_type": "code",
   "execution_count": 182,
   "metadata": {},
   "outputs": [],
   "source": [
    "mergedDf = conversations_conversation.merge(people_person, left_on='requester_id', right_on='id')\n",
    "finalDf = mergedDf.merge(conversations_review, how=\"left\",left_on='requester_id', right_on='reviewer_id')"
   ]
  },
  {
   "cell_type": "code",
   "execution_count": 131,
   "metadata": {},
   "outputs": [
    {
     "data": {
      "text/html": [
       "<div>\n",
       "<style scoped>\n",
       "    .dataframe tbody tr th:only-of-type {\n",
       "        vertical-align: middle;\n",
       "    }\n",
       "\n",
       "    .dataframe tbody tr th {\n",
       "        vertical-align: top;\n",
       "    }\n",
       "\n",
       "    .dataframe thead th {\n",
       "        text-align: right;\n",
       "    }\n",
       "</style>\n",
       "<table border=\"1\" class=\"dataframe\">\n",
       "  <thead>\n",
       "    <tr style=\"text-align: right;\">\n",
       "      <th></th>\n",
       "      <th>reviewer_id</th>\n",
       "      <th>stars</th>\n",
       "      <th>id</th>\n",
       "      <th>date_joined</th>\n",
       "      <th>gender</th>\n",
       "      <th>requester_id</th>\n",
       "      <th>booked_at</th>\n",
       "      <th>cancelled_at</th>\n",
       "    </tr>\n",
       "  </thead>\n",
       "  <tbody>\n",
       "    <tr>\n",
       "      <td>0</td>\n",
       "      <td>64386</td>\n",
       "      <td>1</td>\n",
       "      <td>64386</td>\n",
       "      <td>2018-07-20 09:53:50.791735</td>\n",
       "      <td>m</td>\n",
       "      <td>64386</td>\n",
       "      <td>2018-07-22 02:50:20.676664</td>\n",
       "      <td>NaN</td>\n",
       "    </tr>\n",
       "    <tr>\n",
       "      <td>1</td>\n",
       "      <td>64384</td>\n",
       "      <td>5</td>\n",
       "      <td>64384</td>\n",
       "      <td>2018-06-19 09:03:29.715286</td>\n",
       "      <td>f</td>\n",
       "      <td>64384</td>\n",
       "      <td>2018-06-23 01:49:33.596667</td>\n",
       "      <td>NaN</td>\n",
       "    </tr>\n",
       "    <tr>\n",
       "      <td>2</td>\n",
       "      <td>64382</td>\n",
       "      <td>5</td>\n",
       "      <td>64382</td>\n",
       "      <td>2018-05-30 09:10:35.631308</td>\n",
       "      <td>m</td>\n",
       "      <td>64382</td>\n",
       "      <td>2018-06-07 01:24:20.187356</td>\n",
       "      <td>NaN</td>\n",
       "    </tr>\n",
       "    <tr>\n",
       "      <td>3</td>\n",
       "      <td>64382</td>\n",
       "      <td>5</td>\n",
       "      <td>64382</td>\n",
       "      <td>2018-05-30 09:10:35.631308</td>\n",
       "      <td>m</td>\n",
       "      <td>64382</td>\n",
       "      <td>NaN</td>\n",
       "      <td>NaN</td>\n",
       "    </tr>\n",
       "    <tr>\n",
       "      <td>4</td>\n",
       "      <td>64381</td>\n",
       "      <td>1</td>\n",
       "      <td>64381</td>\n",
       "      <td>2018-07-12 02:48:23.959257</td>\n",
       "      <td>f</td>\n",
       "      <td>64381</td>\n",
       "      <td>2018-07-19 01:01:11.552880</td>\n",
       "      <td>NaN</td>\n",
       "    </tr>\n",
       "  </tbody>\n",
       "</table>\n",
       "</div>"
      ],
      "text/plain": [
       "   reviewer_id  stars     id                 date_joined gender  requester_id  \\\n",
       "0        64386      1  64386  2018-07-20 09:53:50.791735      m         64386   \n",
       "1        64384      5  64384  2018-06-19 09:03:29.715286      f         64384   \n",
       "2        64382      5  64382  2018-05-30 09:10:35.631308      m         64382   \n",
       "3        64382      5  64382  2018-05-30 09:10:35.631308      m         64382   \n",
       "4        64381      1  64381  2018-07-12 02:48:23.959257      f         64381   \n",
       "\n",
       "                    booked_at cancelled_at  \n",
       "0  2018-07-22 02:50:20.676664          NaN  \n",
       "1  2018-06-23 01:49:33.596667          NaN  \n",
       "2  2018-06-07 01:24:20.187356          NaN  \n",
       "3                         NaN          NaN  \n",
       "4  2018-07-19 01:01:11.552880          NaN  "
      ]
     },
     "execution_count": 131,
     "metadata": {},
     "output_type": "execute_result"
    }
   ],
   "source": [
    "#peocon_conrev= pd.merge(conversations_review[[\"reviewer_id\", \"stars\"]], people_conversations,\n",
    "                       # how='inner',left_on=['reviewer_id'], \n",
    "                        #right_on=['id'], suffixes=('_left','_right'))\n",
    "#peocon_conrev.head()"
   ]
  },
  {
   "cell_type": "code",
   "execution_count": 181,
   "metadata": {},
   "outputs": [
    {
     "data": {
      "text/plain": [
       "(41001, 25)"
      ]
     },
     "execution_count": 181,
     "metadata": {},
     "output_type": "execute_result"
    }
   ],
   "source": [
    "removes=finalDf[(pd.notnull(finalDf[\"booked_at\"])) & (pd.isnull(finalDf[\"cancelled_at\"]))]\n",
    "removes.shape"
   ]
  },
  {
   "cell_type": "code",
   "execution_count": 174,
   "metadata": {},
   "outputs": [
    {
     "data": {
      "text/plain": [
       "(37532, 8)"
      ]
     },
     "execution_count": 174,
     "metadata": {},
     "output_type": "execute_result"
    }
   ],
   "source": [
    "filtered_df.shape"
   ]
  },
  {
   "cell_type": "code",
   "execution_count": 159,
   "metadata": {},
   "outputs": [
    {
     "data": {
      "text/plain": [
       "1561"
      ]
     },
     "execution_count": 159,
     "metadata": {},
     "output_type": "execute_result"
    }
   ],
   "source": [
    "single_reviews=filtered_df2.reviewer_id.count()\n",
    "single_reviews"
   ]
  },
  {
   "cell_type": "code",
   "execution_count": 178,
   "metadata": {},
   "outputs": [
    {
     "data": {
      "text/plain": [
       "stars\n",
       "1.0     2080\n",
       "2.0     2097\n",
       "3.0     2118\n",
       "4.0     2108\n",
       "5.0    27568\n",
       "Name: reviewer_id, dtype: int64"
      ]
     },
     "execution_count": 178,
     "metadata": {},
     "output_type": "execute_result"
    }
   ],
   "source": [
    "removes.groupby(['stars'])['reviewer_id'].count()"
   ]
  },
  {
   "cell_type": "code",
   "execution_count": 155,
   "metadata": {},
   "outputs": [
    {
     "data": {
      "text/plain": [
       "4.307377192675326"
      ]
     },
     "execution_count": 155,
     "metadata": {},
     "output_type": "execute_result"
    }
   ],
   "source": [
    "conversations_review[\"stars\"].mean()"
   ]
  }
 ],
 "metadata": {
  "kernelspec": {
   "display_name": "Python 3",
   "language": "python",
   "name": "python3"
  },
  "language_info": {
   "codemirror_mode": {
    "name": "ipython",
    "version": 3
   },
   "file_extension": ".py",
   "mimetype": "text/x-python",
   "name": "python",
   "nbconvert_exporter": "python",
   "pygments_lexer": "ipython3",
   "version": "3.7.4"
  }
 },
 "nbformat": 4,
 "nbformat_minor": 2
}
