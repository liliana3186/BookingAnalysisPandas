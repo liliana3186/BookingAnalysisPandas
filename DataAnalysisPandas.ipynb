{
 "cells": [
  {
   "cell_type": "markdown",
   "metadata": {},
   "source": [
    "# Data Analysis with Pandas\n",
    "\n",
    "By Liliana Torres\n",
    "&nbsp; \n"
   ]
  },
  {
   "cell_type": "markdown",
   "metadata": {},
   "source": [
    "## What is Pandas and what do we use it for? "
   ]
  },
  {
   "cell_type": "markdown",
   "metadata": {},
   "source": [
    "Pandas is one of those package that makes importing and analyzing data much easier. Pandas builds on packages like NumPy and matplotlib to give you a single, convenient, place to do most of your data analysis and visualization work. "
   ]
  },
  {
   "cell_type": "markdown",
   "metadata": {},
   "source": [
    "![](images/QuotePandas.jpg)"
   ]
  },
  {
   "cell_type": "markdown",
   "metadata": {},
   "source": [
    "### Exploring the Data \n",
    "We will be working with a business that offer pet services. We have certain questions from busines that we would like to answer..\n",
    "\n",
    " * people_person : this file has details of each user on the site. it might contain pet owners, pet sitters or people that has not done any transactions on the site\n",
    " * pets_pet : this file contains each pet that a user has added to their profile. One owner might have more than one pet, but not viceversa.\n",
    " * services_service: on the site users might offer pet care services. This file has stored each record of that service that is offered. Each user can have more than one service but not one of each type.\n",
    " * conversations_conversation : An owner can book a service provider by starting a conversation with them. This will store each conversation started on the platform.\n",
    " * conversations_conversation_pets : Since a booking my involve many pets and many pets might had many bookings, it is neccesary to store this many to many relationship.\n",
    " * conversations_message : Each conversation consists of a series of messages. A conversation may contain many messages, but not viceversa: \n",
    " * conversations_review : if a booking ocurrs, then either participant can leave a review for the experience. This file has records of those reviews, which consists of a brief statement and a star rating.\n",
    " "
   ]
  },
  {
   "cell_type": "markdown",
   "metadata": {},
   "source": [
    "###   * Loading the data into a dataframes"
   ]
  },
  {
   "cell_type": "code",
   "execution_count": 3,
   "metadata": {},
   "outputs": [],
   "source": [
    "# importing the libraries\n",
    "import pandas as pd\n",
    "import numpy as np"
   ]
  },
  {
   "cell_type": "code",
   "execution_count": 4,
   "metadata": {},
   "outputs": [],
   "source": [
    "#Read the CSV data\n",
    "people_person = pd.read_csv ('../DataAnalysisPandas/datasets/people_person.csv')\n",
    "pets_pet = pd.read_csv ('../DataAnalysisPandas/datasets/pets_pet.csv')\n",
    "services_service = pd.read_csv ('../DataAnalysisPandas/datasets/services_service.csv')\n",
    "conversations_conversation = pd.read_csv ('../DataAnalysisPandas/datasets/conversations_conversation.csv')\n",
    "conversations_conversation_pets = pd.read_csv ('../DataAnalysisPandas/datasets/conversations_conversation_pets.csv')\n",
    "conversations_message = pd.read_csv ('../DataAnalysisPandas/datasets/conversations_message.csv')\n",
    "conversations_review = pd.read_csv ('../DataAnalysisPandas/datasets/conversations_review.csv')"
   ]
  },
  {
   "cell_type": "markdown",
   "metadata": {},
   "source": [
    "### * We will begin answering some questions to the business to get to know more the data\n",
    "\n",
    "1) How many users have signed up ?"
   ]
  },
  {
   "cell_type": "code",
   "execution_count": 5,
   "metadata": {},
   "outputs": [
    {
     "data": {
      "text/html": [
       "<div>\n",
       "<style scoped>\n",
       "    .dataframe tbody tr th:only-of-type {\n",
       "        vertical-align: middle;\n",
       "    }\n",
       "\n",
       "    .dataframe tbody tr th {\n",
       "        vertical-align: top;\n",
       "    }\n",
       "\n",
       "    .dataframe thead th {\n",
       "        text-align: right;\n",
       "    }\n",
       "</style>\n",
       "<table border=\"1\" class=\"dataframe\">\n",
       "  <thead>\n",
       "    <tr style=\"text-align: right;\">\n",
       "      <th></th>\n",
       "      <th>id</th>\n",
       "      <th>first_name</th>\n",
       "      <th>last_name</th>\n",
       "      <th>email</th>\n",
       "      <th>channel</th>\n",
       "      <th>date_joined</th>\n",
       "      <th>photo</th>\n",
       "      <th>fee</th>\n",
       "      <th>gender</th>\n",
       "    </tr>\n",
       "  </thead>\n",
       "  <tbody>\n",
       "    <tr>\n",
       "      <td>0</td>\n",
       "      <td>1</td>\n",
       "      <td>Leanora</td>\n",
       "      <td>Allcock</td>\n",
       "      <td>leanora.allcock635@hotmail.com</td>\n",
       "      <td>NaN</td>\n",
       "      <td>2016-08-02 14:59:15.095591</td>\n",
       "      <td>https://placekitten.com/242/269</td>\n",
       "      <td>0.0</td>\n",
       "      <td>f</td>\n",
       "    </tr>\n",
       "    <tr>\n",
       "      <td>1</td>\n",
       "      <td>2</td>\n",
       "      <td>Elroy</td>\n",
       "      <td>Blanding</td>\n",
       "      <td>elroy.blanding510@yahoo.com</td>\n",
       "      <td>NaN</td>\n",
       "      <td>2016-08-02 18:15:30.105940</td>\n",
       "      <td>https://placekitten.com/373/320</td>\n",
       "      <td>0.0</td>\n",
       "      <td>m</td>\n",
       "    </tr>\n",
       "    <tr>\n",
       "      <td>2</td>\n",
       "      <td>3</td>\n",
       "      <td>Jeanice</td>\n",
       "      <td>Aleman</td>\n",
       "      <td>jeanice.aleman392@hotmail.com</td>\n",
       "      <td>NaN</td>\n",
       "      <td>2016-08-02 16:11:09.542004</td>\n",
       "      <td>https://placekitten.com/238/264</td>\n",
       "      <td>0.0</td>\n",
       "      <td>f</td>\n",
       "    </tr>\n",
       "    <tr>\n",
       "      <td>3</td>\n",
       "      <td>4</td>\n",
       "      <td>Tamala</td>\n",
       "      <td>Polhamus</td>\n",
       "      <td>tamala.polhamus146@aol.com</td>\n",
       "      <td>NaN</td>\n",
       "      <td>2016-08-02 18:02:40.389299</td>\n",
       "      <td>https://placekitten.com/220/223</td>\n",
       "      <td>0.0</td>\n",
       "      <td>f</td>\n",
       "    </tr>\n",
       "    <tr>\n",
       "      <td>4</td>\n",
       "      <td>5</td>\n",
       "      <td>Alethea</td>\n",
       "      <td>Gubler</td>\n",
       "      <td>alethea.gubler708@aol.com</td>\n",
       "      <td>NaN</td>\n",
       "      <td>2016-08-02 14:31:53.163034</td>\n",
       "      <td>https://placekitten.com/284/339</td>\n",
       "      <td>0.0</td>\n",
       "      <td>f</td>\n",
       "    </tr>\n",
       "  </tbody>\n",
       "</table>\n",
       "</div>"
      ],
      "text/plain": [
       "   id first_name last_name                           email channel  \\\n",
       "0   1    Leanora   Allcock  leanora.allcock635@hotmail.com     NaN   \n",
       "1   2      Elroy  Blanding     elroy.blanding510@yahoo.com     NaN   \n",
       "2   3    Jeanice    Aleman   jeanice.aleman392@hotmail.com     NaN   \n",
       "3   4     Tamala  Polhamus      tamala.polhamus146@aol.com     NaN   \n",
       "4   5    Alethea    Gubler       alethea.gubler708@aol.com     NaN   \n",
       "\n",
       "                  date_joined                            photo  fee gender  \n",
       "0  2016-08-02 14:59:15.095591  https://placekitten.com/242/269  0.0      f  \n",
       "1  2016-08-02 18:15:30.105940  https://placekitten.com/373/320  0.0      m  \n",
       "2  2016-08-02 16:11:09.542004  https://placekitten.com/238/264  0.0      f  \n",
       "3  2016-08-02 18:02:40.389299  https://placekitten.com/220/223  0.0      f  \n",
       "4  2016-08-02 14:31:53.163034  https://placekitten.com/284/339  0.0      f  "
      ]
     },
     "execution_count": 5,
     "metadata": {},
     "output_type": "execute_result"
    }
   ],
   "source": [
    "# lets take a look of the people person  data\n",
    "people_person.head()"
   ]
  },
  {
   "cell_type": "code",
   "execution_count": 6,
   "metadata": {},
   "outputs": [
    {
     "data": {
      "text/plain": [
       "64393"
      ]
     },
     "execution_count": 6,
     "metadata": {},
     "output_type": "execute_result"
    }
   ],
   "source": [
    "count_users = people_person.id.count()\n",
    "count_users"
   ]
  },
  {
   "cell_type": "code",
   "execution_count": 7,
   "metadata": {
    "scrolled": true
   },
   "outputs": [
    {
     "data": {
      "text/html": [
       "<div>\n",
       "<style scoped>\n",
       "    .dataframe tbody tr th:only-of-type {\n",
       "        vertical-align: middle;\n",
       "    }\n",
       "\n",
       "    .dataframe tbody tr th {\n",
       "        vertical-align: top;\n",
       "    }\n",
       "\n",
       "    .dataframe thead th {\n",
       "        text-align: right;\n",
       "    }\n",
       "</style>\n",
       "<table border=\"1\" class=\"dataframe\">\n",
       "  <thead>\n",
       "    <tr style=\"text-align: right;\">\n",
       "      <th></th>\n",
       "      <th>first_name</th>\n",
       "      <th>last_name</th>\n",
       "      <th>email</th>\n",
       "      <th>channel</th>\n",
       "      <th>date_joined</th>\n",
       "      <th>photo</th>\n",
       "      <th>fee</th>\n",
       "    </tr>\n",
       "    <tr>\n",
       "      <th>gender</th>\n",
       "      <th></th>\n",
       "      <th></th>\n",
       "      <th></th>\n",
       "      <th></th>\n",
       "      <th></th>\n",
       "      <th></th>\n",
       "      <th></th>\n",
       "    </tr>\n",
       "  </thead>\n",
       "  <tbody>\n",
       "    <tr>\n",
       "      <td>f</td>\n",
       "      <td>32075</td>\n",
       "      <td>32075</td>\n",
       "      <td>32075</td>\n",
       "      <td>25781</td>\n",
       "      <td>32075</td>\n",
       "      <td>32075</td>\n",
       "      <td>32075</td>\n",
       "    </tr>\n",
       "    <tr>\n",
       "      <td>m</td>\n",
       "      <td>32318</td>\n",
       "      <td>32318</td>\n",
       "      <td>32318</td>\n",
       "      <td>25874</td>\n",
       "      <td>32318</td>\n",
       "      <td>32318</td>\n",
       "      <td>32318</td>\n",
       "    </tr>\n",
       "  </tbody>\n",
       "</table>\n",
       "</div>"
      ],
      "text/plain": [
       "        first_name  last_name  email  channel  date_joined  photo    fee\n",
       "gender                                                                  \n",
       "f            32075      32075  32075    25781        32075  32075  32075\n",
       "m            32318      32318  32318    25874        32318  32318  32318"
      ]
     },
     "execution_count": 7,
     "metadata": {},
     "output_type": "execute_result"
    }
   ],
   "source": [
    "# you can also count the users for one level multindex\n",
    "count_users1 = people_person.set_index([\"id\", \"gender\"]).count(level = \"gender\")\n",
    "count_users1"
   ]
  },
  {
   "cell_type": "markdown",
   "metadata": {},
   "source": [
    "2) How many users signed up prior to 2018-02-03 ?"
   ]
  },
  {
   "cell_type": "code",
   "execution_count": 8,
   "metadata": {},
   "outputs": [
    {
     "data": {
      "text/plain": [
       "35826"
      ]
     },
     "execution_count": 8,
     "metadata": {},
     "output_type": "execute_result"
    }
   ],
   "source": [
    "users_prior = people_person [(people_person['date_joined'] < '2018-02-03')].id.count()\n",
    "users_prior"
   ]
  },
  {
   "cell_type": "markdown",
   "metadata": {},
   "source": [
    " 3) What percentaje of users have added pets ?"
   ]
  },
  {
   "cell_type": "markdown",
   "metadata": {},
   "source": [
    "Lets take a look at the data in the two csv"
   ]
  },
  {
   "cell_type": "code",
   "execution_count": 9,
   "metadata": {},
   "outputs": [
    {
     "data": {
      "text/html": [
       "<div>\n",
       "<style scoped>\n",
       "    .dataframe tbody tr th:only-of-type {\n",
       "        vertical-align: middle;\n",
       "    }\n",
       "\n",
       "    .dataframe tbody tr th {\n",
       "        vertical-align: top;\n",
       "    }\n",
       "\n",
       "    .dataframe thead th {\n",
       "        text-align: right;\n",
       "    }\n",
       "</style>\n",
       "<table border=\"1\" class=\"dataframe\">\n",
       "  <thead>\n",
       "    <tr style=\"text-align: right;\">\n",
       "      <th></th>\n",
       "      <th>id</th>\n",
       "      <th>name</th>\n",
       "      <th>description</th>\n",
       "      <th>gender</th>\n",
       "      <th>weight</th>\n",
       "      <th>birthday</th>\n",
       "      <th>plays_cats</th>\n",
       "      <th>plays_children</th>\n",
       "      <th>plays_dogs</th>\n",
       "      <th>spayed_neutered</th>\n",
       "      <th>house_trained</th>\n",
       "      <th>size</th>\n",
       "      <th>owner_id</th>\n",
       "    </tr>\n",
       "  </thead>\n",
       "  <tbody>\n",
       "    <tr>\n",
       "      <td>0</td>\n",
       "      <td>1</td>\n",
       "      <td>Jammie</td>\n",
       "      <td>Morbi fames a mauris elit malesuada platea.</td>\n",
       "      <td>f</td>\n",
       "      <td>76</td>\n",
       "      <td>2016-05-26</td>\n",
       "      <td>1</td>\n",
       "      <td>1</td>\n",
       "      <td>1</td>\n",
       "      <td>1</td>\n",
       "      <td>1</td>\n",
       "      <td>large</td>\n",
       "      <td>12601</td>\n",
       "    </tr>\n",
       "    <tr>\n",
       "      <td>1</td>\n",
       "      <td>2</td>\n",
       "      <td>Lonnie</td>\n",
       "      <td>Class magna a libero felis sociosqu.</td>\n",
       "      <td>f</td>\n",
       "      <td>12</td>\n",
       "      <td>2014-05-20</td>\n",
       "      <td>0</td>\n",
       "      <td>1</td>\n",
       "      <td>1</td>\n",
       "      <td>1</td>\n",
       "      <td>0</td>\n",
       "      <td>small</td>\n",
       "      <td>12602</td>\n",
       "    </tr>\n",
       "    <tr>\n",
       "      <td>2</td>\n",
       "      <td>3</td>\n",
       "      <td>Emely</td>\n",
       "      <td>Felis class.</td>\n",
       "      <td>m</td>\n",
       "      <td>11</td>\n",
       "      <td>2014-08-21</td>\n",
       "      <td>0</td>\n",
       "      <td>1</td>\n",
       "      <td>1</td>\n",
       "      <td>1</td>\n",
       "      <td>0</td>\n",
       "      <td>small</td>\n",
       "      <td>12602</td>\n",
       "    </tr>\n",
       "    <tr>\n",
       "      <td>3</td>\n",
       "      <td>4</td>\n",
       "      <td>Emelia</td>\n",
       "      <td>Fames class egestas mollis risus posuere.</td>\n",
       "      <td>f</td>\n",
       "      <td>35</td>\n",
       "      <td>2013-09-23</td>\n",
       "      <td>1</td>\n",
       "      <td>1</td>\n",
       "      <td>1</td>\n",
       "      <td>0</td>\n",
       "      <td>0</td>\n",
       "      <td>medium</td>\n",
       "      <td>12603</td>\n",
       "    </tr>\n",
       "    <tr>\n",
       "      <td>4</td>\n",
       "      <td>5</td>\n",
       "      <td>Jami</td>\n",
       "      <td>Netus augue a congue orci.</td>\n",
       "      <td>m</td>\n",
       "      <td>35</td>\n",
       "      <td>2014-05-13</td>\n",
       "      <td>0</td>\n",
       "      <td>1</td>\n",
       "      <td>1</td>\n",
       "      <td>1</td>\n",
       "      <td>1</td>\n",
       "      <td>medium</td>\n",
       "      <td>12603</td>\n",
       "    </tr>\n",
       "  </tbody>\n",
       "</table>\n",
       "</div>"
      ],
      "text/plain": [
       "   id    name                                  description gender  weight  \\\n",
       "0   1  Jammie  Morbi fames a mauris elit malesuada platea.      f      76   \n",
       "1   2  Lonnie         Class magna a libero felis sociosqu.      f      12   \n",
       "2   3   Emely                                 Felis class.      m      11   \n",
       "3   4  Emelia    Fames class egestas mollis risus posuere.      f      35   \n",
       "4   5    Jami                   Netus augue a congue orci.      m      35   \n",
       "\n",
       "     birthday  plays_cats  plays_children  plays_dogs  spayed_neutered  \\\n",
       "0  2016-05-26           1               1           1                1   \n",
       "1  2014-05-20           0               1           1                1   \n",
       "2  2014-08-21           0               1           1                1   \n",
       "3  2013-09-23           1               1           1                0   \n",
       "4  2014-05-13           0               1           1                1   \n",
       "\n",
       "   house_trained    size  owner_id  \n",
       "0              1   large     12601  \n",
       "1              0   small     12602  \n",
       "2              0   small     12602  \n",
       "3              0  medium     12603  \n",
       "4              1  medium     12603  "
      ]
     },
     "execution_count": 9,
     "metadata": {},
     "output_type": "execute_result"
    }
   ],
   "source": [
    "pets_pet.head()"
   ]
  },
  {
   "cell_type": "code",
   "execution_count": 10,
   "metadata": {},
   "outputs": [
    {
     "data": {
      "text/html": [
       "<div>\n",
       "<style scoped>\n",
       "    .dataframe tbody tr th:only-of-type {\n",
       "        vertical-align: middle;\n",
       "    }\n",
       "\n",
       "    .dataframe tbody tr th {\n",
       "        vertical-align: top;\n",
       "    }\n",
       "\n",
       "    .dataframe thead th {\n",
       "        text-align: right;\n",
       "    }\n",
       "</style>\n",
       "<table border=\"1\" class=\"dataframe\">\n",
       "  <thead>\n",
       "    <tr style=\"text-align: right;\">\n",
       "      <th></th>\n",
       "      <th>id</th>\n",
       "      <th>first_name</th>\n",
       "      <th>last_name</th>\n",
       "      <th>email</th>\n",
       "      <th>channel</th>\n",
       "      <th>date_joined</th>\n",
       "      <th>photo</th>\n",
       "      <th>fee</th>\n",
       "      <th>gender</th>\n",
       "    </tr>\n",
       "  </thead>\n",
       "  <tbody>\n",
       "    <tr>\n",
       "      <td>0</td>\n",
       "      <td>1</td>\n",
       "      <td>Leanora</td>\n",
       "      <td>Allcock</td>\n",
       "      <td>leanora.allcock635@hotmail.com</td>\n",
       "      <td>NaN</td>\n",
       "      <td>2016-08-02 14:59:15.095591</td>\n",
       "      <td>https://placekitten.com/242/269</td>\n",
       "      <td>0.0</td>\n",
       "      <td>f</td>\n",
       "    </tr>\n",
       "    <tr>\n",
       "      <td>1</td>\n",
       "      <td>2</td>\n",
       "      <td>Elroy</td>\n",
       "      <td>Blanding</td>\n",
       "      <td>elroy.blanding510@yahoo.com</td>\n",
       "      <td>NaN</td>\n",
       "      <td>2016-08-02 18:15:30.105940</td>\n",
       "      <td>https://placekitten.com/373/320</td>\n",
       "      <td>0.0</td>\n",
       "      <td>m</td>\n",
       "    </tr>\n",
       "    <tr>\n",
       "      <td>2</td>\n",
       "      <td>3</td>\n",
       "      <td>Jeanice</td>\n",
       "      <td>Aleman</td>\n",
       "      <td>jeanice.aleman392@hotmail.com</td>\n",
       "      <td>NaN</td>\n",
       "      <td>2016-08-02 16:11:09.542004</td>\n",
       "      <td>https://placekitten.com/238/264</td>\n",
       "      <td>0.0</td>\n",
       "      <td>f</td>\n",
       "    </tr>\n",
       "    <tr>\n",
       "      <td>3</td>\n",
       "      <td>4</td>\n",
       "      <td>Tamala</td>\n",
       "      <td>Polhamus</td>\n",
       "      <td>tamala.polhamus146@aol.com</td>\n",
       "      <td>NaN</td>\n",
       "      <td>2016-08-02 18:02:40.389299</td>\n",
       "      <td>https://placekitten.com/220/223</td>\n",
       "      <td>0.0</td>\n",
       "      <td>f</td>\n",
       "    </tr>\n",
       "    <tr>\n",
       "      <td>4</td>\n",
       "      <td>5</td>\n",
       "      <td>Alethea</td>\n",
       "      <td>Gubler</td>\n",
       "      <td>alethea.gubler708@aol.com</td>\n",
       "      <td>NaN</td>\n",
       "      <td>2016-08-02 14:31:53.163034</td>\n",
       "      <td>https://placekitten.com/284/339</td>\n",
       "      <td>0.0</td>\n",
       "      <td>f</td>\n",
       "    </tr>\n",
       "  </tbody>\n",
       "</table>\n",
       "</div>"
      ],
      "text/plain": [
       "   id first_name last_name                           email channel  \\\n",
       "0   1    Leanora   Allcock  leanora.allcock635@hotmail.com     NaN   \n",
       "1   2      Elroy  Blanding     elroy.blanding510@yahoo.com     NaN   \n",
       "2   3    Jeanice    Aleman   jeanice.aleman392@hotmail.com     NaN   \n",
       "3   4     Tamala  Polhamus      tamala.polhamus146@aol.com     NaN   \n",
       "4   5    Alethea    Gubler       alethea.gubler708@aol.com     NaN   \n",
       "\n",
       "                  date_joined                            photo  fee gender  \n",
       "0  2016-08-02 14:59:15.095591  https://placekitten.com/242/269  0.0      f  \n",
       "1  2016-08-02 18:15:30.105940  https://placekitten.com/373/320  0.0      m  \n",
       "2  2016-08-02 16:11:09.542004  https://placekitten.com/238/264  0.0      f  \n",
       "3  2016-08-02 18:02:40.389299  https://placekitten.com/220/223  0.0      f  \n",
       "4  2016-08-02 14:31:53.163034  https://placekitten.com/284/339  0.0      f  "
      ]
     },
     "execution_count": 10,
     "metadata": {},
     "output_type": "execute_result"
    }
   ],
   "source": [
    "people_person.head()"
   ]
  },
  {
   "cell_type": "code",
   "execution_count": 11,
   "metadata": {},
   "outputs": [
    {
     "data": {
      "text/plain": [
       "51793"
      ]
     },
     "execution_count": 11,
     "metadata": {},
     "output_type": "execute_result"
    }
   ],
   "source": [
    "total_added_pet=pets_pet.owner_id.nunique()\n",
    "total_added_pet"
   ]
  },
  {
   "cell_type": "code",
   "execution_count": 12,
   "metadata": {},
   "outputs": [
    {
     "data": {
      "text/plain": [
       "64393"
      ]
     },
     "execution_count": 12,
     "metadata": {},
     "output_type": "execute_result"
    }
   ],
   "source": [
    "total_users=people_person.id.nunique()\n",
    "total_users"
   ]
  },
  {
   "cell_type": "code",
   "execution_count": 13,
   "metadata": {},
   "outputs": [
    {
     "data": {
      "text/plain": [
       "80.4326557234482"
      ]
     },
     "execution_count": 13,
     "metadata": {},
     "output_type": "execute_result"
    }
   ],
   "source": [
    "pecentage_added = total_added_pet * 100 / total_users\n",
    "pecentage_added"
   ]
  },
  {
   "cell_type": "markdown",
   "metadata": {},
   "source": [
    "4)  Of those users, how many they have been added on average ?"
   ]
  },
  {
   "cell_type": "code",
   "execution_count": 14,
   "metadata": {},
   "outputs": [
    {
     "data": {
      "text/plain": [
       "77730"
      ]
     },
     "execution_count": 14,
     "metadata": {},
     "output_type": "execute_result"
    }
   ],
   "source": [
    "# we will use need to use the total_user and calculate from those how many have been added \n",
    "total_added_pet_all = pets_pet.id.count()\n",
    "total_added_pet_all"
   ]
  },
  {
   "cell_type": "code",
   "execution_count": 15,
   "metadata": {},
   "outputs": [
    {
     "data": {
      "text/plain": [
       "1.500781958951982"
      ]
     },
     "execution_count": 15,
     "metadata": {},
     "output_type": "execute_result"
    }
   ],
   "source": [
    "added_average = total_added_pet_all /total_added_pet\n",
    "added_average"
   ]
  },
  {
   "cell_type": "markdown",
   "metadata": {},
   "source": [
    "5) What percentage of pets play well with cats?"
   ]
  },
  {
   "cell_type": "code",
   "execution_count": 16,
   "metadata": {},
   "outputs": [
    {
     "data": {
      "text/plain": [
       "24.850122217933873"
      ]
     },
     "execution_count": 16,
     "metadata": {},
     "output_type": "execute_result"
    }
   ],
   "source": [
    "total_plays_cats = (pets_pet.plays_cats.sum() * 100 ) / pets_pet.plays_cats.count()\n",
    "total_plays_cats"
   ]
  },
  {
   "cell_type": "markdown",
   "metadata": {},
   "source": [
    "6) Book ratings, what is the average and how does it look the the ratings total per stars ?\n"
   ]
  },
  {
   "cell_type": "code",
   "execution_count": 22,
   "metadata": {},
   "outputs": [
    {
     "data": {
      "text/html": [
       "<div>\n",
       "<style scoped>\n",
       "    .dataframe tbody tr th:only-of-type {\n",
       "        vertical-align: middle;\n",
       "    }\n",
       "\n",
       "    .dataframe tbody tr th {\n",
       "        vertical-align: top;\n",
       "    }\n",
       "\n",
       "    .dataframe thead th {\n",
       "        text-align: right;\n",
       "    }\n",
       "</style>\n",
       "<table border=\"1\" class=\"dataframe\">\n",
       "  <thead>\n",
       "    <tr style=\"text-align: right;\">\n",
       "      <th></th>\n",
       "      <th>id</th>\n",
       "      <th>content</th>\n",
       "      <th>stars</th>\n",
       "      <th>conversation_id</th>\n",
       "      <th>reviewer_id</th>\n",
       "    </tr>\n",
       "  </thead>\n",
       "  <tbody>\n",
       "    <tr>\n",
       "      <td>0</td>\n",
       "      <td>1</td>\n",
       "      <td>Netus proin per duis dolor venenatis nam.</td>\n",
       "      <td>1</td>\n",
       "      <td>7</td>\n",
       "      <td>64386</td>\n",
       "    </tr>\n",
       "    <tr>\n",
       "      <td>1</td>\n",
       "      <td>2</td>\n",
       "      <td>Dolor proin donec phasellus ve suspendisse ac ...</td>\n",
       "      <td>5</td>\n",
       "      <td>9</td>\n",
       "      <td>64384</td>\n",
       "    </tr>\n",
       "    <tr>\n",
       "      <td>2</td>\n",
       "      <td>3</td>\n",
       "      <td>Proin ipsum urna nisl egestas justo class a ar...</td>\n",
       "      <td>5</td>\n",
       "      <td>11</td>\n",
       "      <td>64382</td>\n",
       "    </tr>\n",
       "    <tr>\n",
       "      <td>3</td>\n",
       "      <td>4</td>\n",
       "      <td>Porta velit lectus varius donec tellus sollici...</td>\n",
       "      <td>1</td>\n",
       "      <td>13</td>\n",
       "      <td>64381</td>\n",
       "    </tr>\n",
       "    <tr>\n",
       "      <td>4</td>\n",
       "      <td>5</td>\n",
       "      <td>Dolor felis.</td>\n",
       "      <td>2</td>\n",
       "      <td>15</td>\n",
       "      <td>64379</td>\n",
       "    </tr>\n",
       "  </tbody>\n",
       "</table>\n",
       "</div>"
      ],
      "text/plain": [
       "   id                                            content  stars  \\\n",
       "0   1          Netus proin per duis dolor venenatis nam.      1   \n",
       "1   2  Dolor proin donec phasellus ve suspendisse ac ...      5   \n",
       "2   3  Proin ipsum urna nisl egestas justo class a ar...      5   \n",
       "3   4  Porta velit lectus varius donec tellus sollici...      1   \n",
       "4   5                                       Dolor felis.      2   \n",
       "\n",
       "   conversation_id  reviewer_id  \n",
       "0                7        64386  \n",
       "1                9        64384  \n",
       "2               11        64382  \n",
       "3               13        64381  \n",
       "4               15        64379  "
      ]
     },
     "execution_count": 22,
     "metadata": {},
     "output_type": "execute_result"
    }
   ],
   "source": [
    "#lets look at the data related to it\n",
    "conversations_review.head()"
   ]
  },
  {
   "cell_type": "code",
   "execution_count": 23,
   "metadata": {},
   "outputs": [
    {
     "data": {
      "text/html": [
       "<div>\n",
       "<style scoped>\n",
       "    .dataframe tbody tr th:only-of-type {\n",
       "        vertical-align: middle;\n",
       "    }\n",
       "\n",
       "    .dataframe tbody tr th {\n",
       "        vertical-align: top;\n",
       "    }\n",
       "\n",
       "    .dataframe thead th {\n",
       "        text-align: right;\n",
       "    }\n",
       "</style>\n",
       "<table border=\"1\" class=\"dataframe\">\n",
       "  <thead>\n",
       "    <tr style=\"text-align: right;\">\n",
       "      <th></th>\n",
       "      <th>id</th>\n",
       "      <th>start_date</th>\n",
       "      <th>end_date</th>\n",
       "      <th>units</th>\n",
       "      <th>added</th>\n",
       "      <th>booking_total</th>\n",
       "      <th>cancellation_fault</th>\n",
       "      <th>requester_id</th>\n",
       "      <th>service_id</th>\n",
       "      <th>booked_at</th>\n",
       "      <th>cancelled_at</th>\n",
       "    </tr>\n",
       "  </thead>\n",
       "  <tbody>\n",
       "    <tr>\n",
       "      <td>0</td>\n",
       "      <td>1</td>\n",
       "      <td>2018-07-26</td>\n",
       "      <td>2018-07-31</td>\n",
       "      <td>5</td>\n",
       "      <td>2018-07-16 10:17:53.460035</td>\n",
       "      <td>120</td>\n",
       "      <td>NaN</td>\n",
       "      <td>64393</td>\n",
       "      <td>4646</td>\n",
       "      <td>NaN</td>\n",
       "      <td>NaN</td>\n",
       "    </tr>\n",
       "    <tr>\n",
       "      <td>1</td>\n",
       "      <td>2</td>\n",
       "      <td>2018-08-10</td>\n",
       "      <td>2018-08-16</td>\n",
       "      <td>6</td>\n",
       "      <td>2018-08-01 10:20:48.626868</td>\n",
       "      <td>132</td>\n",
       "      <td>NaN</td>\n",
       "      <td>64392</td>\n",
       "      <td>10126</td>\n",
       "      <td>NaN</td>\n",
       "      <td>NaN</td>\n",
       "    </tr>\n",
       "    <tr>\n",
       "      <td>2</td>\n",
       "      <td>3</td>\n",
       "      <td>2018-06-16</td>\n",
       "      <td>2018-06-19</td>\n",
       "      <td>3</td>\n",
       "      <td>2018-06-05 16:46:39.542467</td>\n",
       "      <td>168</td>\n",
       "      <td>NaN</td>\n",
       "      <td>64391</td>\n",
       "      <td>20677</td>\n",
       "      <td>NaN</td>\n",
       "      <td>NaN</td>\n",
       "    </tr>\n",
       "    <tr>\n",
       "      <td>3</td>\n",
       "      <td>4</td>\n",
       "      <td>2018-07-13</td>\n",
       "      <td>2018-07-20</td>\n",
       "      <td>7</td>\n",
       "      <td>2018-07-02 09:12:22.275923</td>\n",
       "      <td>490</td>\n",
       "      <td>NaN</td>\n",
       "      <td>64391</td>\n",
       "      <td>3847</td>\n",
       "      <td>NaN</td>\n",
       "      <td>NaN</td>\n",
       "    </tr>\n",
       "    <tr>\n",
       "      <td>4</td>\n",
       "      <td>5</td>\n",
       "      <td>2018-07-02</td>\n",
       "      <td>2018-07-07</td>\n",
       "      <td>5</td>\n",
       "      <td>2018-06-21 16:02:48.694725</td>\n",
       "      <td>140</td>\n",
       "      <td>NaN</td>\n",
       "      <td>64389</td>\n",
       "      <td>9982</td>\n",
       "      <td>NaN</td>\n",
       "      <td>NaN</td>\n",
       "    </tr>\n",
       "  </tbody>\n",
       "</table>\n",
       "</div>"
      ],
      "text/plain": [
       "   id  start_date    end_date  units                       added  \\\n",
       "0   1  2018-07-26  2018-07-31      5  2018-07-16 10:17:53.460035   \n",
       "1   2  2018-08-10  2018-08-16      6  2018-08-01 10:20:48.626868   \n",
       "2   3  2018-06-16  2018-06-19      3  2018-06-05 16:46:39.542467   \n",
       "3   4  2018-07-13  2018-07-20      7  2018-07-02 09:12:22.275923   \n",
       "4   5  2018-07-02  2018-07-07      5  2018-06-21 16:02:48.694725   \n",
       "\n",
       "   booking_total cancellation_fault  requester_id  service_id booked_at  \\\n",
       "0            120                NaN         64393        4646       NaN   \n",
       "1            132                NaN         64392       10126       NaN   \n",
       "2            168                NaN         64391       20677       NaN   \n",
       "3            490                NaN         64391        3847       NaN   \n",
       "4            140                NaN         64389        9982       NaN   \n",
       "\n",
       "  cancelled_at  \n",
       "0          NaN  \n",
       "1          NaN  \n",
       "2          NaN  \n",
       "3          NaN  \n",
       "4          NaN  "
      ]
     },
     "execution_count": 23,
     "metadata": {},
     "output_type": "execute_result"
    }
   ],
   "source": [
    "conversations_conversation.head()"
   ]
  },
  {
   "cell_type": "code",
   "execution_count": 24,
   "metadata": {},
   "outputs": [
    {
     "data": {
      "text/html": [
       "<div>\n",
       "<style scoped>\n",
       "    .dataframe tbody tr th:only-of-type {\n",
       "        vertical-align: middle;\n",
       "    }\n",
       "\n",
       "    .dataframe tbody tr th {\n",
       "        vertical-align: top;\n",
       "    }\n",
       "\n",
       "    .dataframe thead th {\n",
       "        text-align: right;\n",
       "    }\n",
       "</style>\n",
       "<table border=\"1\" class=\"dataframe\">\n",
       "  <thead>\n",
       "    <tr style=\"text-align: right;\">\n",
       "      <th></th>\n",
       "      <th>id</th>\n",
       "      <th>first_name</th>\n",
       "      <th>last_name</th>\n",
       "      <th>email</th>\n",
       "      <th>channel</th>\n",
       "      <th>date_joined</th>\n",
       "      <th>photo</th>\n",
       "      <th>fee</th>\n",
       "      <th>gender</th>\n",
       "    </tr>\n",
       "  </thead>\n",
       "  <tbody>\n",
       "    <tr>\n",
       "      <td>0</td>\n",
       "      <td>1</td>\n",
       "      <td>Leanora</td>\n",
       "      <td>Allcock</td>\n",
       "      <td>leanora.allcock635@hotmail.com</td>\n",
       "      <td>NaN</td>\n",
       "      <td>2016-08-02 14:59:15.095591</td>\n",
       "      <td>https://placekitten.com/242/269</td>\n",
       "      <td>0.0</td>\n",
       "      <td>f</td>\n",
       "    </tr>\n",
       "    <tr>\n",
       "      <td>1</td>\n",
       "      <td>2</td>\n",
       "      <td>Elroy</td>\n",
       "      <td>Blanding</td>\n",
       "      <td>elroy.blanding510@yahoo.com</td>\n",
       "      <td>NaN</td>\n",
       "      <td>2016-08-02 18:15:30.105940</td>\n",
       "      <td>https://placekitten.com/373/320</td>\n",
       "      <td>0.0</td>\n",
       "      <td>m</td>\n",
       "    </tr>\n",
       "    <tr>\n",
       "      <td>2</td>\n",
       "      <td>3</td>\n",
       "      <td>Jeanice</td>\n",
       "      <td>Aleman</td>\n",
       "      <td>jeanice.aleman392@hotmail.com</td>\n",
       "      <td>NaN</td>\n",
       "      <td>2016-08-02 16:11:09.542004</td>\n",
       "      <td>https://placekitten.com/238/264</td>\n",
       "      <td>0.0</td>\n",
       "      <td>f</td>\n",
       "    </tr>\n",
       "    <tr>\n",
       "      <td>3</td>\n",
       "      <td>4</td>\n",
       "      <td>Tamala</td>\n",
       "      <td>Polhamus</td>\n",
       "      <td>tamala.polhamus146@aol.com</td>\n",
       "      <td>NaN</td>\n",
       "      <td>2016-08-02 18:02:40.389299</td>\n",
       "      <td>https://placekitten.com/220/223</td>\n",
       "      <td>0.0</td>\n",
       "      <td>f</td>\n",
       "    </tr>\n",
       "    <tr>\n",
       "      <td>4</td>\n",
       "      <td>5</td>\n",
       "      <td>Alethea</td>\n",
       "      <td>Gubler</td>\n",
       "      <td>alethea.gubler708@aol.com</td>\n",
       "      <td>NaN</td>\n",
       "      <td>2016-08-02 14:31:53.163034</td>\n",
       "      <td>https://placekitten.com/284/339</td>\n",
       "      <td>0.0</td>\n",
       "      <td>f</td>\n",
       "    </tr>\n",
       "  </tbody>\n",
       "</table>\n",
       "</div>"
      ],
      "text/plain": [
       "   id first_name last_name                           email channel  \\\n",
       "0   1    Leanora   Allcock  leanora.allcock635@hotmail.com     NaN   \n",
       "1   2      Elroy  Blanding     elroy.blanding510@yahoo.com     NaN   \n",
       "2   3    Jeanice    Aleman   jeanice.aleman392@hotmail.com     NaN   \n",
       "3   4     Tamala  Polhamus      tamala.polhamus146@aol.com     NaN   \n",
       "4   5    Alethea    Gubler       alethea.gubler708@aol.com     NaN   \n",
       "\n",
       "                  date_joined                            photo  fee gender  \n",
       "0  2016-08-02 14:59:15.095591  https://placekitten.com/242/269  0.0      f  \n",
       "1  2016-08-02 18:15:30.105940  https://placekitten.com/373/320  0.0      m  \n",
       "2  2016-08-02 16:11:09.542004  https://placekitten.com/238/264  0.0      f  \n",
       "3  2016-08-02 18:02:40.389299  https://placekitten.com/220/223  0.0      f  \n",
       "4  2016-08-02 14:31:53.163034  https://placekitten.com/284/339  0.0      f  "
      ]
     },
     "execution_count": 24,
     "metadata": {},
     "output_type": "execute_result"
    }
   ],
   "source": [
    "people_person.head()"
   ]
  },
  {
   "cell_type": "code",
   "execution_count": 26,
   "metadata": {},
   "outputs": [],
   "source": [
    "mergedDf = conversations_conversation.merge(people_person, left_on='requester_id', right_on='id')\n",
    "finalDf = mergedDf.merge(conversations_review, how=\"left\",left_on='requester_id', right_on='reviewer_id')"
   ]
  },
  {
   "cell_type": "code",
   "execution_count": 28,
   "metadata": {},
   "outputs": [],
   "source": [
    "removes=finalDf[(pd.notnull(finalDf[\"booked_at\"])) & (pd.isnull(finalDf[\"cancelled_at\"]))]\n",
    "#removes.shape"
   ]
  },
  {
   "cell_type": "code",
   "execution_count": 29,
   "metadata": {},
   "outputs": [
    {
     "data": {
      "text/plain": [
       "stars\n",
       "1.0     2080\n",
       "2.0     2097\n",
       "3.0     2118\n",
       "4.0     2108\n",
       "5.0    27568\n",
       "Name: reviewer_id, dtype: int64"
      ]
     },
     "execution_count": 29,
     "metadata": {},
     "output_type": "execute_result"
    }
   ],
   "source": [
    "removes.groupby(['stars'])['reviewer_id'].count()"
   ]
  },
  {
   "cell_type": "markdown",
   "metadata": {},
   "source": [
    "7) Stars review average "
   ]
  },
  {
   "cell_type": "code",
   "execution_count": 31,
   "metadata": {},
   "outputs": [
    {
     "data": {
      "text/plain": [
       "4.307377192675326"
      ]
     },
     "execution_count": 31,
     "metadata": {},
     "output_type": "execute_result"
    }
   ],
   "source": [
    "conversations_review[\"stars\"].mean()"
   ]
  },
  {
   "cell_type": "markdown",
   "metadata": {},
   "source": [
    "8) For the services how many do we have that offers that can provide injected medication. Do we have enough that can take care of that for the pets?"
   ]
  },
  {
   "cell_type": "code",
   "execution_count": 31,
   "metadata": {},
   "outputs": [
    {
     "data": {
      "text/html": [
       "<div>\n",
       "<style scoped>\n",
       "    .dataframe tbody tr th:only-of-type {\n",
       "        vertical-align: middle;\n",
       "    }\n",
       "\n",
       "    .dataframe tbody tr th {\n",
       "        vertical-align: top;\n",
       "    }\n",
       "\n",
       "    .dataframe thead th {\n",
       "        text-align: right;\n",
       "    }\n",
       "</style>\n",
       "<table border=\"1\" class=\"dataframe\">\n",
       "  <thead>\n",
       "    <tr style=\"text-align: right;\">\n",
       "      <th></th>\n",
       "      <th>id</th>\n",
       "      <th>service_type</th>\n",
       "      <th>cancellation_policy</th>\n",
       "      <th>can_provide_oral_medication</th>\n",
       "      <th>can_provide_injected_medication</th>\n",
       "      <th>senior_dog_experience</th>\n",
       "      <th>special_needs_experience</th>\n",
       "      <th>takes_small_dogs</th>\n",
       "      <th>takes_medium_dogs</th>\n",
       "      <th>takes_large_dogs</th>\n",
       "      <th>takes_puppies</th>\n",
       "      <th>max_dogs</th>\n",
       "      <th>provider_id</th>\n",
       "      <th>fee</th>\n",
       "      <th>price</th>\n",
       "      <th>added</th>\n",
       "    </tr>\n",
       "  </thead>\n",
       "  <tbody>\n",
       "    <tr>\n",
       "      <td>0</td>\n",
       "      <td>1</td>\n",
       "      <td>boarding</td>\n",
       "      <td>strict</td>\n",
       "      <td>1</td>\n",
       "      <td>1</td>\n",
       "      <td>1</td>\n",
       "      <td>1</td>\n",
       "      <td>0</td>\n",
       "      <td>1</td>\n",
       "      <td>1</td>\n",
       "      <td>1</td>\n",
       "      <td>4</td>\n",
       "      <td>1</td>\n",
       "      <td>0.15</td>\n",
       "      <td>35</td>\n",
       "      <td>2016-08-02 14:59:15.095591</td>\n",
       "    </tr>\n",
       "    <tr>\n",
       "      <td>1</td>\n",
       "      <td>2</td>\n",
       "      <td>dog-walking</td>\n",
       "      <td>strict</td>\n",
       "      <td>1</td>\n",
       "      <td>0</td>\n",
       "      <td>1</td>\n",
       "      <td>1</td>\n",
       "      <td>0</td>\n",
       "      <td>0</td>\n",
       "      <td>1</td>\n",
       "      <td>1</td>\n",
       "      <td>5</td>\n",
       "      <td>1</td>\n",
       "      <td>0.15</td>\n",
       "      <td>26</td>\n",
       "      <td>2016-08-02 14:59:15.095591</td>\n",
       "    </tr>\n",
       "    <tr>\n",
       "      <td>2</td>\n",
       "      <td>3</td>\n",
       "      <td>boarding</td>\n",
       "      <td>moderate</td>\n",
       "      <td>0</td>\n",
       "      <td>0</td>\n",
       "      <td>1</td>\n",
       "      <td>0</td>\n",
       "      <td>0</td>\n",
       "      <td>0</td>\n",
       "      <td>1</td>\n",
       "      <td>1</td>\n",
       "      <td>2</td>\n",
       "      <td>2</td>\n",
       "      <td>0.15</td>\n",
       "      <td>31</td>\n",
       "      <td>2016-08-02 18:15:30.105940</td>\n",
       "    </tr>\n",
       "    <tr>\n",
       "      <td>3</td>\n",
       "      <td>4</td>\n",
       "      <td>dog-walking</td>\n",
       "      <td>strict</td>\n",
       "      <td>1</td>\n",
       "      <td>0</td>\n",
       "      <td>1</td>\n",
       "      <td>0</td>\n",
       "      <td>1</td>\n",
       "      <td>0</td>\n",
       "      <td>0</td>\n",
       "      <td>1</td>\n",
       "      <td>5</td>\n",
       "      <td>2</td>\n",
       "      <td>0.15</td>\n",
       "      <td>27</td>\n",
       "      <td>2016-08-02 18:15:30.105940</td>\n",
       "    </tr>\n",
       "    <tr>\n",
       "      <td>4</td>\n",
       "      <td>5</td>\n",
       "      <td>day-care</td>\n",
       "      <td>strict</td>\n",
       "      <td>1</td>\n",
       "      <td>0</td>\n",
       "      <td>1</td>\n",
       "      <td>1</td>\n",
       "      <td>0</td>\n",
       "      <td>1</td>\n",
       "      <td>1</td>\n",
       "      <td>1</td>\n",
       "      <td>5</td>\n",
       "      <td>2</td>\n",
       "      <td>0.15</td>\n",
       "      <td>30</td>\n",
       "      <td>2016-08-02 18:15:30.105940</td>\n",
       "    </tr>\n",
       "  </tbody>\n",
       "</table>\n",
       "</div>"
      ],
      "text/plain": [
       "   id service_type cancellation_policy  can_provide_oral_medication  \\\n",
       "0   1     boarding              strict                            1   \n",
       "1   2  dog-walking              strict                            1   \n",
       "2   3     boarding            moderate                            0   \n",
       "3   4  dog-walking              strict                            1   \n",
       "4   5     day-care              strict                            1   \n",
       "\n",
       "   can_provide_injected_medication  senior_dog_experience  \\\n",
       "0                                1                      1   \n",
       "1                                0                      1   \n",
       "2                                0                      1   \n",
       "3                                0                      1   \n",
       "4                                0                      1   \n",
       "\n",
       "   special_needs_experience  takes_small_dogs  takes_medium_dogs  \\\n",
       "0                         1                 0                  1   \n",
       "1                         1                 0                  0   \n",
       "2                         0                 0                  0   \n",
       "3                         0                 1                  0   \n",
       "4                         1                 0                  1   \n",
       "\n",
       "   takes_large_dogs  takes_puppies  max_dogs  provider_id   fee  price  \\\n",
       "0                 1              1         4            1  0.15     35   \n",
       "1                 1              1         5            1  0.15     26   \n",
       "2                 1              1         2            2  0.15     31   \n",
       "3                 0              1         5            2  0.15     27   \n",
       "4                 1              1         5            2  0.15     30   \n",
       "\n",
       "                        added  \n",
       "0  2016-08-02 14:59:15.095591  \n",
       "1  2016-08-02 14:59:15.095591  \n",
       "2  2016-08-02 18:15:30.105940  \n",
       "3  2016-08-02 18:15:30.105940  \n",
       "4  2016-08-02 18:15:30.105940  "
      ]
     },
     "execution_count": 31,
     "metadata": {},
     "output_type": "execute_result"
    }
   ],
   "source": [
    "# Let's take a look of the data in services\n",
    "services_service.head()"
   ]
  },
  {
   "cell_type": "code",
   "execution_count": 32,
   "metadata": {},
   "outputs": [
    {
     "data": {
      "text/html": [
       "<div>\n",
       "<style scoped>\n",
       "    .dataframe tbody tr th:only-of-type {\n",
       "        vertical-align: middle;\n",
       "    }\n",
       "\n",
       "    .dataframe tbody tr th {\n",
       "        vertical-align: top;\n",
       "    }\n",
       "\n",
       "    .dataframe thead th {\n",
       "        text-align: right;\n",
       "    }\n",
       "</style>\n",
       "<table border=\"1\" class=\"dataframe\">\n",
       "  <thead>\n",
       "    <tr style=\"text-align: right;\">\n",
       "      <th>can_provide_injected_medication</th>\n",
       "      <th>0</th>\n",
       "      <th>1</th>\n",
       "    </tr>\n",
       "    <tr>\n",
       "      <th>service_type</th>\n",
       "      <th></th>\n",
       "      <th></th>\n",
       "    </tr>\n",
       "  </thead>\n",
       "  <tbody>\n",
       "    <tr>\n",
       "      <td>boarding</td>\n",
       "      <td>5623</td>\n",
       "      <td>1410</td>\n",
       "    </tr>\n",
       "    <tr>\n",
       "      <td>day-care</td>\n",
       "      <td>5709</td>\n",
       "      <td>1439</td>\n",
       "    </tr>\n",
       "    <tr>\n",
       "      <td>dog-walking</td>\n",
       "      <td>5717</td>\n",
       "      <td>1500</td>\n",
       "    </tr>\n",
       "  </tbody>\n",
       "</table>\n",
       "</div>"
      ],
      "text/plain": [
       "can_provide_injected_medication     0     1\n",
       "service_type                               \n",
       "boarding                         5623  1410\n",
       "day-care                         5709  1439\n",
       "dog-walking                      5717  1500"
      ]
     },
     "execution_count": 32,
     "metadata": {},
     "output_type": "execute_result"
    }
   ],
   "source": [
    "#lets pivot the data to take a look at it\n",
    "pvt = services_service.pivot_table(index=['service_type'], columns=['can_provide_injected_medication',], values='id', aggfunc='count')\n",
    "pvt\n"
   ]
  },
  {
   "cell_type": "markdown",
   "metadata": {},
   "source": [
    "9) What is the total of bookings we have per service"
   ]
  },
  {
   "cell_type": "code",
   "execution_count": 58,
   "metadata": {
    "scrolled": true
   },
   "outputs": [
    {
     "data": {
      "text/html": [
       "<div>\n",
       "<style scoped>\n",
       "    .dataframe tbody tr th:only-of-type {\n",
       "        vertical-align: middle;\n",
       "    }\n",
       "\n",
       "    .dataframe tbody tr th {\n",
       "        vertical-align: top;\n",
       "    }\n",
       "\n",
       "    .dataframe thead th {\n",
       "        text-align: right;\n",
       "    }\n",
       "</style>\n",
       "<table border=\"1\" class=\"dataframe\">\n",
       "  <thead>\n",
       "    <tr style=\"text-align: right;\">\n",
       "      <th></th>\n",
       "      <th>id</th>\n",
       "      <th>service_type</th>\n",
       "      <th>cancellation_policy</th>\n",
       "      <th>can_provide_oral_medication</th>\n",
       "      <th>can_provide_injected_medication</th>\n",
       "      <th>senior_dog_experience</th>\n",
       "      <th>special_needs_experience</th>\n",
       "      <th>takes_small_dogs</th>\n",
       "      <th>takes_medium_dogs</th>\n",
       "      <th>takes_large_dogs</th>\n",
       "      <th>takes_puppies</th>\n",
       "      <th>max_dogs</th>\n",
       "      <th>provider_id</th>\n",
       "      <th>fee</th>\n",
       "      <th>price</th>\n",
       "      <th>added</th>\n",
       "    </tr>\n",
       "  </thead>\n",
       "  <tbody>\n",
       "    <tr>\n",
       "      <td>0</td>\n",
       "      <td>1</td>\n",
       "      <td>boarding</td>\n",
       "      <td>strict</td>\n",
       "      <td>1</td>\n",
       "      <td>1</td>\n",
       "      <td>1</td>\n",
       "      <td>1</td>\n",
       "      <td>0</td>\n",
       "      <td>1</td>\n",
       "      <td>1</td>\n",
       "      <td>1</td>\n",
       "      <td>4</td>\n",
       "      <td>1</td>\n",
       "      <td>0.15</td>\n",
       "      <td>35</td>\n",
       "      <td>2016-08-02 14:59:15.095591</td>\n",
       "    </tr>\n",
       "    <tr>\n",
       "      <td>1</td>\n",
       "      <td>2</td>\n",
       "      <td>dog-walking</td>\n",
       "      <td>strict</td>\n",
       "      <td>1</td>\n",
       "      <td>0</td>\n",
       "      <td>1</td>\n",
       "      <td>1</td>\n",
       "      <td>0</td>\n",
       "      <td>0</td>\n",
       "      <td>1</td>\n",
       "      <td>1</td>\n",
       "      <td>5</td>\n",
       "      <td>1</td>\n",
       "      <td>0.15</td>\n",
       "      <td>26</td>\n",
       "      <td>2016-08-02 14:59:15.095591</td>\n",
       "    </tr>\n",
       "    <tr>\n",
       "      <td>2</td>\n",
       "      <td>3</td>\n",
       "      <td>boarding</td>\n",
       "      <td>moderate</td>\n",
       "      <td>0</td>\n",
       "      <td>0</td>\n",
       "      <td>1</td>\n",
       "      <td>0</td>\n",
       "      <td>0</td>\n",
       "      <td>0</td>\n",
       "      <td>1</td>\n",
       "      <td>1</td>\n",
       "      <td>2</td>\n",
       "      <td>2</td>\n",
       "      <td>0.15</td>\n",
       "      <td>31</td>\n",
       "      <td>2016-08-02 18:15:30.105940</td>\n",
       "    </tr>\n",
       "    <tr>\n",
       "      <td>3</td>\n",
       "      <td>4</td>\n",
       "      <td>dog-walking</td>\n",
       "      <td>strict</td>\n",
       "      <td>1</td>\n",
       "      <td>0</td>\n",
       "      <td>1</td>\n",
       "      <td>0</td>\n",
       "      <td>1</td>\n",
       "      <td>0</td>\n",
       "      <td>0</td>\n",
       "      <td>1</td>\n",
       "      <td>5</td>\n",
       "      <td>2</td>\n",
       "      <td>0.15</td>\n",
       "      <td>27</td>\n",
       "      <td>2016-08-02 18:15:30.105940</td>\n",
       "    </tr>\n",
       "    <tr>\n",
       "      <td>4</td>\n",
       "      <td>5</td>\n",
       "      <td>day-care</td>\n",
       "      <td>strict</td>\n",
       "      <td>1</td>\n",
       "      <td>0</td>\n",
       "      <td>1</td>\n",
       "      <td>1</td>\n",
       "      <td>0</td>\n",
       "      <td>1</td>\n",
       "      <td>1</td>\n",
       "      <td>1</td>\n",
       "      <td>5</td>\n",
       "      <td>2</td>\n",
       "      <td>0.15</td>\n",
       "      <td>30</td>\n",
       "      <td>2016-08-02 18:15:30.105940</td>\n",
       "    </tr>\n",
       "  </tbody>\n",
       "</table>\n",
       "</div>"
      ],
      "text/plain": [
       "   id service_type cancellation_policy  can_provide_oral_medication  \\\n",
       "0   1     boarding              strict                            1   \n",
       "1   2  dog-walking              strict                            1   \n",
       "2   3     boarding            moderate                            0   \n",
       "3   4  dog-walking              strict                            1   \n",
       "4   5     day-care              strict                            1   \n",
       "\n",
       "   can_provide_injected_medication  senior_dog_experience  \\\n",
       "0                                1                      1   \n",
       "1                                0                      1   \n",
       "2                                0                      1   \n",
       "3                                0                      1   \n",
       "4                                0                      1   \n",
       "\n",
       "   special_needs_experience  takes_small_dogs  takes_medium_dogs  \\\n",
       "0                         1                 0                  1   \n",
       "1                         1                 0                  0   \n",
       "2                         0                 0                  0   \n",
       "3                         0                 1                  0   \n",
       "4                         1                 0                  1   \n",
       "\n",
       "   takes_large_dogs  takes_puppies  max_dogs  provider_id   fee  price  \\\n",
       "0                 1              1         4            1  0.15     35   \n",
       "1                 1              1         5            1  0.15     26   \n",
       "2                 1              1         2            2  0.15     31   \n",
       "3                 0              1         5            2  0.15     27   \n",
       "4                 1              1         5            2  0.15     30   \n",
       "\n",
       "                        added  \n",
       "0  2016-08-02 14:59:15.095591  \n",
       "1  2016-08-02 14:59:15.095591  \n",
       "2  2016-08-02 18:15:30.105940  \n",
       "3  2016-08-02 18:15:30.105940  \n",
       "4  2016-08-02 18:15:30.105940  "
      ]
     },
     "execution_count": 58,
     "metadata": {},
     "output_type": "execute_result"
    }
   ],
   "source": [
    "services_service.head() #ids are here"
   ]
  },
  {
   "cell_type": "code",
   "execution_count": 59,
   "metadata": {
    "scrolled": true
   },
   "outputs": [
    {
     "name": "stdout",
     "output_type": "stream",
     "text": [
      "<class 'pandas.core.frame.DataFrame'>\n",
      "Int64Index: 41001 entries, 0 to 41000\n",
      "Data columns (total 27 columns):\n",
      "id_x                  41001 non-null int64\n",
      "start_date            41001 non-null object\n",
      "end_date              41001 non-null object\n",
      "units                 41001 non-null int64\n",
      "added                 41001 non-null datetime64[ns]\n",
      "booking_total         41001 non-null int64\n",
      "cancellation_fault    0 non-null object\n",
      "requester_id          41001 non-null int64\n",
      "service_id            41001 non-null int64\n",
      "booked_at             41001 non-null object\n",
      "cancelled_at          0 non-null object\n",
      "id_y                  41001 non-null int64\n",
      "first_name            41001 non-null object\n",
      "last_name             41001 non-null object\n",
      "email                 41001 non-null object\n",
      "channel               33047 non-null object\n",
      "date_joined           41001 non-null object\n",
      "photo                 41001 non-null object\n",
      "fee                   41001 non-null float64\n",
      "gender                41001 non-null object\n",
      "id_x                  35971 non-null float64\n",
      "content               35971 non-null object\n",
      "stars                 35971 non-null float64\n",
      "conversation_id       35971 non-null float64\n",
      "reviewer_id           35971 non-null float64\n",
      "service_type          41001 non-null object\n",
      "id_y                  41001 non-null int64\n",
      "dtypes: datetime64[ns](1), float64(5), int64(7), object(14)\n",
      "memory usage: 8.8+ MB\n"
     ]
    }
   ],
   "source": [
    "merge_services = removes.merge(services_service[[\"service_type\", \"id\"]], left_on='service_id', right_on='id')\n",
    "#removes.head()\n",
    "merge_services.info()"
   ]
  },
  {
   "cell_type": "code",
   "execution_count": 60,
   "metadata": {},
   "outputs": [
    {
     "data": {
      "text/plain": [
       "service_type\n",
       "dog-walking    1981831\n",
       "day-care       2024484\n",
       "boarding       3277752\n",
       "Name: booking_total, dtype: int64"
      ]
     },
     "execution_count": 60,
     "metadata": {},
     "output_type": "execute_result"
    }
   ],
   "source": [
    "merge_services.groupby([\"service_type\"]).sum().sort_values(\"service_type\", ascending=False).booking_total"
   ]
  }
 ],
 "metadata": {
  "kernelspec": {
   "display_name": "Python 3",
   "language": "python",
   "name": "python3"
  },
  "language_info": {
   "codemirror_mode": {
    "name": "ipython",
    "version": 3
   },
   "file_extension": ".py",
   "mimetype": "text/x-python",
   "name": "python",
   "nbconvert_exporter": "python",
   "pygments_lexer": "ipython3",
   "version": "3.7.4"
  }
 },
 "nbformat": 4,
 "nbformat_minor": 2
}
